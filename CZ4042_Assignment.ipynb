{
  "nbformat": 4,
  "nbformat_minor": 0,
  "metadata": {
    "colab": {
      "name": "CZ4042 Assignment.ipynb",
      "provenance": [],
      "collapsed_sections": []
    },
    "kernelspec": {
      "display_name": "Python 3",
      "language": "python",
      "name": "python3"
    },
    "language_info": {
      "codemirror_mode": {
        "name": "ipython",
        "version": 3
      },
      "file_extension": ".py",
      "mimetype": "text/x-python",
      "name": "python",
      "nbconvert_exporter": "python",
      "pygments_lexer": "ipython3",
      "version": "3.7.9"
    }
  },
  "cells": [
    {
      "cell_type": "markdown",
      "metadata": {
        "id": "lPYOhGwKm9bp"
      },
      "source": [
        "# Part A"
      ]
    },
    {
      "cell_type": "code",
      "metadata": {
        "id": "YM8unKH7nSIM"
      },
      "source": [
        "import tensorflow\n",
        "import pandas as pd\n",
        "import time\n",
        "import numpy as np\n",
        "import matplotlib.pyplot as plt\n",
        "\n",
        "# tensorflow libraries\n",
        "import tensorflow as tf\n",
        "import tensorflow.keras as keras\n",
        "from tensorflow.keras import Sequential\n",
        "from tensorflow.keras.layers import Dense, Dropout\n",
        "\n",
        "# sklearn libraries are useful for preprocessing, performance measures, etc.\n",
        "from sklearn import preprocessing\n",
        "from sklearn.model_selection import KFold\n",
        "from sklearn.model_selection import train_test_split"
      ],
      "execution_count": 1,
      "outputs": []
    },
    {
      "cell_type": "code",
      "metadata": {
        "id": "An4b9d12p8u2",
        "colab": {
          "base_uri": "https://localhost:8080/",
          "height": 223
        },
        "outputId": "2f8a3e48-f9e8-42af-a401-543f30519b03"
      },
      "source": [
        "df = pd.read_csv('./features_30_sec.csv')\n",
        "df.head()"
      ],
      "execution_count": 2,
      "outputs": [
        {
          "output_type": "execute_result",
          "data": {
            "text/html": [
              "<div>\n",
              "<style scoped>\n",
              "    .dataframe tbody tr th:only-of-type {\n",
              "        vertical-align: middle;\n",
              "    }\n",
              "\n",
              "    .dataframe tbody tr th {\n",
              "        vertical-align: top;\n",
              "    }\n",
              "\n",
              "    .dataframe thead th {\n",
              "        text-align: right;\n",
              "    }\n",
              "</style>\n",
              "<table border=\"1\" class=\"dataframe\">\n",
              "  <thead>\n",
              "    <tr style=\"text-align: right;\">\n",
              "      <th></th>\n",
              "      <th>filename</th>\n",
              "      <th>length</th>\n",
              "      <th>chroma_stft_mean</th>\n",
              "      <th>chroma_stft_var</th>\n",
              "      <th>rms_mean</th>\n",
              "      <th>rms_var</th>\n",
              "      <th>spectral_centroid_mean</th>\n",
              "      <th>spectral_centroid_var</th>\n",
              "      <th>spectral_bandwidth_mean</th>\n",
              "      <th>spectral_bandwidth_var</th>\n",
              "      <th>rolloff_mean</th>\n",
              "      <th>rolloff_var</th>\n",
              "      <th>zero_crossing_rate_mean</th>\n",
              "      <th>zero_crossing_rate_var</th>\n",
              "      <th>harmony_mean</th>\n",
              "      <th>harmony_var</th>\n",
              "      <th>perceptr_mean</th>\n",
              "      <th>perceptr_var</th>\n",
              "      <th>tempo</th>\n",
              "      <th>mfcc1_mean</th>\n",
              "      <th>mfcc1_var</th>\n",
              "      <th>mfcc2_mean</th>\n",
              "      <th>mfcc2_var</th>\n",
              "      <th>mfcc3_mean</th>\n",
              "      <th>mfcc3_var</th>\n",
              "      <th>mfcc4_mean</th>\n",
              "      <th>mfcc4_var</th>\n",
              "      <th>mfcc5_mean</th>\n",
              "      <th>mfcc5_var</th>\n",
              "      <th>mfcc6_mean</th>\n",
              "      <th>mfcc6_var</th>\n",
              "      <th>mfcc7_mean</th>\n",
              "      <th>mfcc7_var</th>\n",
              "      <th>mfcc8_mean</th>\n",
              "      <th>mfcc8_var</th>\n",
              "      <th>mfcc9_mean</th>\n",
              "      <th>mfcc9_var</th>\n",
              "      <th>mfcc10_mean</th>\n",
              "      <th>mfcc10_var</th>\n",
              "      <th>mfcc11_mean</th>\n",
              "      <th>mfcc11_var</th>\n",
              "      <th>mfcc12_mean</th>\n",
              "      <th>mfcc12_var</th>\n",
              "      <th>mfcc13_mean</th>\n",
              "      <th>mfcc13_var</th>\n",
              "      <th>mfcc14_mean</th>\n",
              "      <th>mfcc14_var</th>\n",
              "      <th>mfcc15_mean</th>\n",
              "      <th>mfcc15_var</th>\n",
              "      <th>mfcc16_mean</th>\n",
              "      <th>mfcc16_var</th>\n",
              "      <th>mfcc17_mean</th>\n",
              "      <th>mfcc17_var</th>\n",
              "      <th>mfcc18_mean</th>\n",
              "      <th>mfcc18_var</th>\n",
              "      <th>mfcc19_mean</th>\n",
              "      <th>mfcc19_var</th>\n",
              "      <th>mfcc20_mean</th>\n",
              "      <th>mfcc20_var</th>\n",
              "      <th>label</th>\n",
              "    </tr>\n",
              "  </thead>\n",
              "  <tbody>\n",
              "    <tr>\n",
              "      <th>0</th>\n",
              "      <td>blues.00000.wav</td>\n",
              "      <td>661794</td>\n",
              "      <td>0.350088</td>\n",
              "      <td>0.088757</td>\n",
              "      <td>0.130228</td>\n",
              "      <td>0.002827</td>\n",
              "      <td>1784.165850</td>\n",
              "      <td>129774.064525</td>\n",
              "      <td>2002.449060</td>\n",
              "      <td>85882.761315</td>\n",
              "      <td>3805.839606</td>\n",
              "      <td>9.015054e+05</td>\n",
              "      <td>0.083045</td>\n",
              "      <td>0.000767</td>\n",
              "      <td>-4.529724e-05</td>\n",
              "      <td>0.008172</td>\n",
              "      <td>0.000008</td>\n",
              "      <td>0.005698</td>\n",
              "      <td>123.046875</td>\n",
              "      <td>-113.570648</td>\n",
              "      <td>2564.207520</td>\n",
              "      <td>121.571793</td>\n",
              "      <td>295.913818</td>\n",
              "      <td>-19.168142</td>\n",
              "      <td>235.574432</td>\n",
              "      <td>42.366421</td>\n",
              "      <td>151.106873</td>\n",
              "      <td>-6.364664</td>\n",
              "      <td>167.934799</td>\n",
              "      <td>18.623499</td>\n",
              "      <td>89.180840</td>\n",
              "      <td>-13.704891</td>\n",
              "      <td>67.660492</td>\n",
              "      <td>15.343150</td>\n",
              "      <td>68.932579</td>\n",
              "      <td>-12.274110</td>\n",
              "      <td>82.204201</td>\n",
              "      <td>10.976572</td>\n",
              "      <td>63.386311</td>\n",
              "      <td>-8.326573</td>\n",
              "      <td>61.773094</td>\n",
              "      <td>8.803792</td>\n",
              "      <td>51.244125</td>\n",
              "      <td>-3.672300</td>\n",
              "      <td>41.217415</td>\n",
              "      <td>5.747995</td>\n",
              "      <td>40.554478</td>\n",
              "      <td>-5.162882</td>\n",
              "      <td>49.775421</td>\n",
              "      <td>0.752740</td>\n",
              "      <td>52.420910</td>\n",
              "      <td>-1.690215</td>\n",
              "      <td>36.524071</td>\n",
              "      <td>-0.408979</td>\n",
              "      <td>41.597103</td>\n",
              "      <td>-2.303523</td>\n",
              "      <td>55.062923</td>\n",
              "      <td>1.221291</td>\n",
              "      <td>46.936035</td>\n",
              "      <td>blues</td>\n",
              "    </tr>\n",
              "    <tr>\n",
              "      <th>1</th>\n",
              "      <td>blues.00001.wav</td>\n",
              "      <td>661794</td>\n",
              "      <td>0.340914</td>\n",
              "      <td>0.094980</td>\n",
              "      <td>0.095948</td>\n",
              "      <td>0.002373</td>\n",
              "      <td>1530.176679</td>\n",
              "      <td>375850.073649</td>\n",
              "      <td>2039.036516</td>\n",
              "      <td>213843.755497</td>\n",
              "      <td>3550.522098</td>\n",
              "      <td>2.977893e+06</td>\n",
              "      <td>0.056040</td>\n",
              "      <td>0.001448</td>\n",
              "      <td>1.395807e-04</td>\n",
              "      <td>0.005099</td>\n",
              "      <td>-0.000178</td>\n",
              "      <td>0.003063</td>\n",
              "      <td>67.999589</td>\n",
              "      <td>-207.501694</td>\n",
              "      <td>7764.555176</td>\n",
              "      <td>123.991264</td>\n",
              "      <td>560.259949</td>\n",
              "      <td>8.955127</td>\n",
              "      <td>572.810913</td>\n",
              "      <td>35.877647</td>\n",
              "      <td>264.506104</td>\n",
              "      <td>2.907320</td>\n",
              "      <td>279.932922</td>\n",
              "      <td>21.510466</td>\n",
              "      <td>156.477097</td>\n",
              "      <td>-8.560436</td>\n",
              "      <td>200.849182</td>\n",
              "      <td>23.370686</td>\n",
              "      <td>142.555954</td>\n",
              "      <td>-10.099661</td>\n",
              "      <td>166.108521</td>\n",
              "      <td>11.900497</td>\n",
              "      <td>104.358612</td>\n",
              "      <td>-5.555639</td>\n",
              "      <td>105.173630</td>\n",
              "      <td>5.376327</td>\n",
              "      <td>96.197212</td>\n",
              "      <td>-2.231760</td>\n",
              "      <td>64.914291</td>\n",
              "      <td>4.220140</td>\n",
              "      <td>73.152534</td>\n",
              "      <td>-6.012148</td>\n",
              "      <td>52.422142</td>\n",
              "      <td>0.927998</td>\n",
              "      <td>55.356403</td>\n",
              "      <td>-0.731125</td>\n",
              "      <td>60.314529</td>\n",
              "      <td>0.295073</td>\n",
              "      <td>48.120598</td>\n",
              "      <td>-0.283518</td>\n",
              "      <td>51.106190</td>\n",
              "      <td>0.531217</td>\n",
              "      <td>45.786282</td>\n",
              "      <td>blues</td>\n",
              "    </tr>\n",
              "    <tr>\n",
              "      <th>2</th>\n",
              "      <td>blues.00002.wav</td>\n",
              "      <td>661794</td>\n",
              "      <td>0.363637</td>\n",
              "      <td>0.085275</td>\n",
              "      <td>0.175570</td>\n",
              "      <td>0.002746</td>\n",
              "      <td>1552.811865</td>\n",
              "      <td>156467.643368</td>\n",
              "      <td>1747.702312</td>\n",
              "      <td>76254.192257</td>\n",
              "      <td>3042.260232</td>\n",
              "      <td>7.840345e+05</td>\n",
              "      <td>0.076291</td>\n",
              "      <td>0.001007</td>\n",
              "      <td>2.105576e-06</td>\n",
              "      <td>0.016342</td>\n",
              "      <td>-0.000019</td>\n",
              "      <td>0.007458</td>\n",
              "      <td>161.499023</td>\n",
              "      <td>-90.722595</td>\n",
              "      <td>3319.044922</td>\n",
              "      <td>140.446304</td>\n",
              "      <td>508.765045</td>\n",
              "      <td>-29.093889</td>\n",
              "      <td>411.781219</td>\n",
              "      <td>31.684334</td>\n",
              "      <td>144.090317</td>\n",
              "      <td>-13.984504</td>\n",
              "      <td>155.493759</td>\n",
              "      <td>25.764742</td>\n",
              "      <td>74.548401</td>\n",
              "      <td>-13.664875</td>\n",
              "      <td>106.981827</td>\n",
              "      <td>11.639934</td>\n",
              "      <td>106.574875</td>\n",
              "      <td>-11.783643</td>\n",
              "      <td>65.447945</td>\n",
              "      <td>9.718760</td>\n",
              "      <td>67.908859</td>\n",
              "      <td>-13.133803</td>\n",
              "      <td>57.781425</td>\n",
              "      <td>5.791199</td>\n",
              "      <td>64.480209</td>\n",
              "      <td>-8.907628</td>\n",
              "      <td>60.385151</td>\n",
              "      <td>-1.077000</td>\n",
              "      <td>57.711136</td>\n",
              "      <td>-9.229274</td>\n",
              "      <td>36.580986</td>\n",
              "      <td>2.451690</td>\n",
              "      <td>40.598766</td>\n",
              "      <td>-7.729093</td>\n",
              "      <td>47.639427</td>\n",
              "      <td>-1.816407</td>\n",
              "      <td>52.382141</td>\n",
              "      <td>-3.439720</td>\n",
              "      <td>46.639660</td>\n",
              "      <td>-2.231258</td>\n",
              "      <td>30.573025</td>\n",
              "      <td>blues</td>\n",
              "    </tr>\n",
              "    <tr>\n",
              "      <th>3</th>\n",
              "      <td>blues.00003.wav</td>\n",
              "      <td>661794</td>\n",
              "      <td>0.404785</td>\n",
              "      <td>0.093999</td>\n",
              "      <td>0.141093</td>\n",
              "      <td>0.006346</td>\n",
              "      <td>1070.106615</td>\n",
              "      <td>184355.942417</td>\n",
              "      <td>1596.412872</td>\n",
              "      <td>166441.494769</td>\n",
              "      <td>2184.745799</td>\n",
              "      <td>1.493194e+06</td>\n",
              "      <td>0.033309</td>\n",
              "      <td>0.000423</td>\n",
              "      <td>4.583644e-07</td>\n",
              "      <td>0.019054</td>\n",
              "      <td>-0.000014</td>\n",
              "      <td>0.002712</td>\n",
              "      <td>63.024009</td>\n",
              "      <td>-199.544205</td>\n",
              "      <td>5507.517090</td>\n",
              "      <td>150.090897</td>\n",
              "      <td>456.505402</td>\n",
              "      <td>5.662678</td>\n",
              "      <td>257.161163</td>\n",
              "      <td>26.859079</td>\n",
              "      <td>158.267303</td>\n",
              "      <td>1.771399</td>\n",
              "      <td>268.034393</td>\n",
              "      <td>14.234031</td>\n",
              "      <td>126.794128</td>\n",
              "      <td>-4.832006</td>\n",
              "      <td>155.912079</td>\n",
              "      <td>9.286494</td>\n",
              "      <td>81.273743</td>\n",
              "      <td>-0.759186</td>\n",
              "      <td>92.114090</td>\n",
              "      <td>8.137607</td>\n",
              "      <td>71.314079</td>\n",
              "      <td>-3.200653</td>\n",
              "      <td>110.236687</td>\n",
              "      <td>6.079319</td>\n",
              "      <td>48.251999</td>\n",
              "      <td>-2.480174</td>\n",
              "      <td>56.799400</td>\n",
              "      <td>-1.079305</td>\n",
              "      <td>62.289902</td>\n",
              "      <td>-2.870789</td>\n",
              "      <td>51.651592</td>\n",
              "      <td>0.780874</td>\n",
              "      <td>44.427753</td>\n",
              "      <td>-3.319597</td>\n",
              "      <td>50.206673</td>\n",
              "      <td>0.636965</td>\n",
              "      <td>37.319130</td>\n",
              "      <td>-0.619121</td>\n",
              "      <td>37.259739</td>\n",
              "      <td>-3.407448</td>\n",
              "      <td>31.949339</td>\n",
              "      <td>blues</td>\n",
              "    </tr>\n",
              "    <tr>\n",
              "      <th>4</th>\n",
              "      <td>blues.00004.wav</td>\n",
              "      <td>661794</td>\n",
              "      <td>0.308526</td>\n",
              "      <td>0.087841</td>\n",
              "      <td>0.091529</td>\n",
              "      <td>0.002303</td>\n",
              "      <td>1835.004266</td>\n",
              "      <td>343399.939274</td>\n",
              "      <td>1748.172116</td>\n",
              "      <td>88445.209036</td>\n",
              "      <td>3579.757627</td>\n",
              "      <td>1.572978e+06</td>\n",
              "      <td>0.101461</td>\n",
              "      <td>0.001954</td>\n",
              "      <td>-1.756129e-05</td>\n",
              "      <td>0.004814</td>\n",
              "      <td>-0.000010</td>\n",
              "      <td>0.003094</td>\n",
              "      <td>135.999178</td>\n",
              "      <td>-160.337708</td>\n",
              "      <td>5195.291992</td>\n",
              "      <td>126.219635</td>\n",
              "      <td>853.784729</td>\n",
              "      <td>-35.587811</td>\n",
              "      <td>333.792938</td>\n",
              "      <td>22.148071</td>\n",
              "      <td>193.456100</td>\n",
              "      <td>-32.478600</td>\n",
              "      <td>336.276825</td>\n",
              "      <td>10.852294</td>\n",
              "      <td>134.831573</td>\n",
              "      <td>-23.352329</td>\n",
              "      <td>93.257095</td>\n",
              "      <td>0.498434</td>\n",
              "      <td>124.672127</td>\n",
              "      <td>-11.793437</td>\n",
              "      <td>130.073349</td>\n",
              "      <td>1.207256</td>\n",
              "      <td>99.675575</td>\n",
              "      <td>-13.088418</td>\n",
              "      <td>80.254066</td>\n",
              "      <td>-2.813867</td>\n",
              "      <td>86.430626</td>\n",
              "      <td>-6.933385</td>\n",
              "      <td>89.555443</td>\n",
              "      <td>-7.552725</td>\n",
              "      <td>70.943336</td>\n",
              "      <td>-9.164666</td>\n",
              "      <td>75.793404</td>\n",
              "      <td>-4.520576</td>\n",
              "      <td>86.099236</td>\n",
              "      <td>-5.454034</td>\n",
              "      <td>75.269707</td>\n",
              "      <td>-0.916874</td>\n",
              "      <td>53.613918</td>\n",
              "      <td>-4.404827</td>\n",
              "      <td>62.910812</td>\n",
              "      <td>-11.703234</td>\n",
              "      <td>55.195160</td>\n",
              "      <td>blues</td>\n",
              "    </tr>\n",
              "  </tbody>\n",
              "</table>\n",
              "</div>"
            ],
            "text/plain": [
              "          filename  length  chroma_stft_mean  ...  mfcc20_mean  mfcc20_var  label\n",
              "0  blues.00000.wav  661794          0.350088  ...     1.221291   46.936035  blues\n",
              "1  blues.00001.wav  661794          0.340914  ...     0.531217   45.786282  blues\n",
              "2  blues.00002.wav  661794          0.363637  ...    -2.231258   30.573025  blues\n",
              "3  blues.00003.wav  661794          0.404785  ...    -3.407448   31.949339  blues\n",
              "4  blues.00004.wav  661794          0.308526  ...   -11.703234   55.195160  blues\n",
              "\n",
              "[5 rows x 60 columns]"
            ]
          },
          "metadata": {},
          "execution_count": 2
        }
      ]
    },
    {
      "cell_type": "markdown",
      "metadata": {
        "id": "1zp_RDMgqL9Z"
      },
      "source": [
        "Split and scale dataset"
      ]
    },
    {
      "cell_type": "code",
      "metadata": {
        "id": "CHZQbQVzqGIA",
        "colab": {
          "base_uri": "https://localhost:8080/"
        },
        "outputId": "bc507078-df95-4acf-a2f5-4bfab18c38f8"
      },
      "source": [
        "df['label'].value_counts()"
      ],
      "execution_count": 3,
      "outputs": [
        {
          "output_type": "execute_result",
          "data": {
            "text/plain": [
              "disco        100\n",
              "country      100\n",
              "jazz         100\n",
              "rock         100\n",
              "blues        100\n",
              "hiphop       100\n",
              "reggae       100\n",
              "classical    100\n",
              "metal        100\n",
              "pop          100\n",
              "Name: label, dtype: int64"
            ]
          },
          "metadata": {},
          "execution_count": 3
        }
      ]
    },
    {
      "cell_type": "code",
      "metadata": {
        "id": "2fNTd9t7qHCI"
      },
      "source": [
        "columns_to_drop = ['label','filename', 'length']\n",
        "\n",
        "def prepare_dataset(df, columns_to_drop, test_size, random_state):\n",
        "\n",
        "    # Encode the labels from 0 to n_classes-1  \n",
        "    label_encoder = preprocessing.LabelEncoder()\n",
        "    df['label'] = label_encoder.fit_transform(df['label'])\n",
        "  \n",
        "    # devide data to train and test\n",
        "    df_train, df_test = train_test_split(df, test_size=test_size, random_state=random_state)\n",
        "    \n",
        "    # scale the training inputs\n",
        "    x_train = df_train.drop(columns_to_drop,axis=1)\n",
        "    y_train = df_train['label'].to_numpy()\n",
        "    \n",
        "    standard_scaler = preprocessing.StandardScaler()\n",
        "    x_train_scaled = standard_scaler.fit_transform(x_train)\n",
        "\n",
        "    #scale and prepare testing data\n",
        "    x_test = df_test.drop(columns_to_drop,axis=1)\n",
        "    x_test_scaled = standard_scaler.transform(x_test)\n",
        "    y_test = df_test['label'].to_numpy() \n",
        "  \n",
        "    return x_train_scaled, y_train, x_test_scaled, y_test"
      ],
      "execution_count": 4,
      "outputs": []
    },
    {
      "cell_type": "code",
      "metadata": {
        "colab": {
          "base_uri": "https://localhost:8080/"
        },
        "id": "HrlgNSG9kzTf",
        "outputId": "3553b073-cc36-4ab1-cdfc-c5c5c6bc12bf"
      },
      "source": [
        "X_train, y_train, X_test, y_test = prepare_dataset(df, columns_to_drop, test_size=0.3, random_state=0)\n",
        "\n",
        "print(X_train.shape, y_train.shape)\n",
        "print(X_test.shape, y_test.shape)"
      ],
      "execution_count": 5,
      "outputs": [
        {
          "output_type": "stream",
          "name": "stdout",
          "text": [
            "(700, 57) (700,)\n",
            "(300, 57) (300,)\n"
          ]
        }
      ]
    },
    {
      "cell_type": "markdown",
      "metadata": {
        "id": "Qp6p7z2WleVs"
      },
      "source": [
        "## Question 1\n",
        "Design a feedforward deep neural network (DNN) which consists of an input layer, one hidden layer of 16 neurons with ReLU activation function, and an output softmax layer. Use an stochastic gradient descent with ‘adam’ optimizer with default parameters, and batch size = 1. Apply dropout of probability 0.3 to the hidden layer. Divide the dataset into a 70:30 ratio for training and testing. Use appropriate scaling of input features. We solely assume that there are only two datasets here: training & test. We would look into validation in Question 2 onwards."
      ]
    },
    {
      "cell_type": "code",
      "metadata": {
        "id": "rtdWkbwgp9S-"
      },
      "source": [
        "#Partitioning training data\n",
        "\n",
        "network = Sequential([\n",
        "    Dense(16, activation='relu'),\n",
        "    Dropout(0.3),\n",
        "    Dense(10, activation='softmax')\n",
        "])\n",
        "network.compile(optimizer='adam',\n",
        "              loss='sparse_categorical_crossentropy',\n",
        "              metrics=['accuracy'])\n",
        "batch_size=1"
      ],
      "execution_count": 6,
      "outputs": []
    },
    {
      "cell_type": "markdown",
      "metadata": {
        "id": "o2ncejDDltHH"
      },
      "source": [
        "### a) \n",
        "Use the training dataset to train the model for 50 epochs. Note: Use 50\n",
        "epochs for subsequent experiments."
      ]
    },
    {
      "cell_type": "code",
      "metadata": {
        "colab": {
          "base_uri": "https://localhost:8080/"
        },
        "id": "gx5_KVUcll8o",
        "outputId": "348f6557-c8b1-4407-b8a2-d5faaa068b27"
      },
      "source": [
        "num_epochs=50\n",
        "\n",
        "history = network.fit(X_train, y_train, \n",
        "                    epochs=num_epochs, \n",
        "                    batch_size = batch_size,\n",
        "                    verbose=2,\n",
        "                    use_multiprocessing=True,\n",
        "                    validation_data=(X_test, y_test)\n",
        "                    )"
      ],
      "execution_count": 7,
      "outputs": [
        {
          "output_type": "stream",
          "name": "stdout",
          "text": [
            "Epoch 1/50\n",
            "700/700 - 2s - loss: 2.2362 - accuracy: 0.2229 - val_loss: 1.8055 - val_accuracy: 0.3467\n",
            "Epoch 2/50\n",
            "700/700 - 1s - loss: 1.6897 - accuracy: 0.3929 - val_loss: 1.5330 - val_accuracy: 0.4500\n",
            "Epoch 3/50\n",
            "700/700 - 1s - loss: 1.5204 - accuracy: 0.4643 - val_loss: 1.3983 - val_accuracy: 0.5033\n",
            "Epoch 4/50\n",
            "700/700 - 1s - loss: 1.3928 - accuracy: 0.5243 - val_loss: 1.2892 - val_accuracy: 0.5267\n",
            "Epoch 5/50\n",
            "700/700 - 1s - loss: 1.2897 - accuracy: 0.5343 - val_loss: 1.2100 - val_accuracy: 0.5700\n",
            "Epoch 6/50\n",
            "700/700 - 1s - loss: 1.2081 - accuracy: 0.5886 - val_loss: 1.1636 - val_accuracy: 0.5700\n",
            "Epoch 7/50\n",
            "700/700 - 1s - loss: 1.1632 - accuracy: 0.6100 - val_loss: 1.1261 - val_accuracy: 0.5600\n",
            "Epoch 8/50\n",
            "700/700 - 1s - loss: 1.1262 - accuracy: 0.6086 - val_loss: 1.0754 - val_accuracy: 0.6200\n",
            "Epoch 9/50\n",
            "700/700 - 1s - loss: 1.0876 - accuracy: 0.6043 - val_loss: 1.0548 - val_accuracy: 0.5933\n",
            "Epoch 10/50\n",
            "700/700 - 1s - loss: 1.0516 - accuracy: 0.6186 - val_loss: 1.0365 - val_accuracy: 0.6133\n",
            "Epoch 11/50\n",
            "700/700 - 1s - loss: 1.0015 - accuracy: 0.6614 - val_loss: 1.0244 - val_accuracy: 0.6200\n",
            "Epoch 12/50\n",
            "700/700 - 1s - loss: 0.9854 - accuracy: 0.6229 - val_loss: 1.0106 - val_accuracy: 0.6067\n",
            "Epoch 13/50\n",
            "700/700 - 1s - loss: 0.9878 - accuracy: 0.6329 - val_loss: 0.9978 - val_accuracy: 0.6067\n",
            "Epoch 14/50\n",
            "700/700 - 1s - loss: 0.9414 - accuracy: 0.6471 - val_loss: 0.9803 - val_accuracy: 0.6200\n",
            "Epoch 15/50\n",
            "700/700 - 1s - loss: 0.9053 - accuracy: 0.6629 - val_loss: 0.9866 - val_accuracy: 0.6100\n",
            "Epoch 16/50\n",
            "700/700 - 1s - loss: 0.9332 - accuracy: 0.6529 - val_loss: 0.9570 - val_accuracy: 0.6200\n",
            "Epoch 17/50\n",
            "700/700 - 1s - loss: 0.8888 - accuracy: 0.6629 - val_loss: 0.9802 - val_accuracy: 0.6300\n",
            "Epoch 18/50\n",
            "700/700 - 1s - loss: 0.9054 - accuracy: 0.6743 - val_loss: 0.9615 - val_accuracy: 0.6600\n",
            "Epoch 19/50\n",
            "700/700 - 1s - loss: 0.8541 - accuracy: 0.6886 - val_loss: 0.9675 - val_accuracy: 0.6367\n",
            "Epoch 20/50\n",
            "700/700 - 1s - loss: 0.8546 - accuracy: 0.6900 - val_loss: 0.9649 - val_accuracy: 0.6300\n",
            "Epoch 21/50\n",
            "700/700 - 1s - loss: 0.8109 - accuracy: 0.7029 - val_loss: 0.9435 - val_accuracy: 0.6700\n",
            "Epoch 22/50\n",
            "700/700 - 1s - loss: 0.8207 - accuracy: 0.6971 - val_loss: 0.9627 - val_accuracy: 0.6367\n",
            "Epoch 23/50\n",
            "700/700 - 1s - loss: 0.8407 - accuracy: 0.6814 - val_loss: 0.9470 - val_accuracy: 0.6567\n",
            "Epoch 24/50\n",
            "700/700 - 1s - loss: 0.8368 - accuracy: 0.6957 - val_loss: 0.9530 - val_accuracy: 0.6567\n",
            "Epoch 25/50\n",
            "700/700 - 1s - loss: 0.8240 - accuracy: 0.7029 - val_loss: 0.9692 - val_accuracy: 0.6500\n",
            "Epoch 26/50\n",
            "700/700 - 1s - loss: 0.8060 - accuracy: 0.7014 - val_loss: 0.9590 - val_accuracy: 0.6333\n",
            "Epoch 27/50\n",
            "700/700 - 1s - loss: 0.7620 - accuracy: 0.7100 - val_loss: 0.9535 - val_accuracy: 0.6533\n",
            "Epoch 28/50\n",
            "700/700 - 1s - loss: 0.7905 - accuracy: 0.6986 - val_loss: 0.9593 - val_accuracy: 0.6500\n",
            "Epoch 29/50\n",
            "700/700 - 1s - loss: 0.7543 - accuracy: 0.7271 - val_loss: 0.9567 - val_accuracy: 0.6533\n",
            "Epoch 30/50\n",
            "700/700 - 1s - loss: 0.7961 - accuracy: 0.7029 - val_loss: 0.9644 - val_accuracy: 0.6433\n",
            "Epoch 31/50\n",
            "700/700 - 1s - loss: 0.7726 - accuracy: 0.7143 - val_loss: 0.9496 - val_accuracy: 0.6733\n",
            "Epoch 32/50\n",
            "700/700 - 1s - loss: 0.8136 - accuracy: 0.6929 - val_loss: 0.9563 - val_accuracy: 0.6767\n",
            "Epoch 33/50\n",
            "700/700 - 1s - loss: 0.7686 - accuracy: 0.7171 - val_loss: 0.9507 - val_accuracy: 0.6633\n",
            "Epoch 34/50\n",
            "700/700 - 1s - loss: 0.7414 - accuracy: 0.7257 - val_loss: 0.9413 - val_accuracy: 0.6667\n",
            "Epoch 35/50\n",
            "700/700 - 1s - loss: 0.7173 - accuracy: 0.7329 - val_loss: 0.9601 - val_accuracy: 0.6667\n",
            "Epoch 36/50\n",
            "700/700 - 1s - loss: 0.6677 - accuracy: 0.7486 - val_loss: 0.9885 - val_accuracy: 0.6667\n",
            "Epoch 37/50\n",
            "700/700 - 1s - loss: 0.7378 - accuracy: 0.7071 - val_loss: 0.9483 - val_accuracy: 0.6733\n",
            "Epoch 38/50\n",
            "700/700 - 1s - loss: 0.7077 - accuracy: 0.7300 - val_loss: 0.9471 - val_accuracy: 0.6833\n",
            "Epoch 39/50\n",
            "700/700 - 1s - loss: 0.7069 - accuracy: 0.7314 - val_loss: 0.9770 - val_accuracy: 0.6600\n",
            "Epoch 40/50\n",
            "700/700 - 1s - loss: 0.7209 - accuracy: 0.7229 - val_loss: 1.0019 - val_accuracy: 0.6533\n",
            "Epoch 41/50\n",
            "700/700 - 1s - loss: 0.7162 - accuracy: 0.7186 - val_loss: 1.0503 - val_accuracy: 0.6467\n",
            "Epoch 42/50\n",
            "700/700 - 1s - loss: 0.7199 - accuracy: 0.7243 - val_loss: 0.9937 - val_accuracy: 0.6767\n",
            "Epoch 43/50\n",
            "700/700 - 1s - loss: 0.6839 - accuracy: 0.7471 - val_loss: 1.0033 - val_accuracy: 0.6667\n",
            "Epoch 44/50\n",
            "700/700 - 1s - loss: 0.6678 - accuracy: 0.7471 - val_loss: 0.9826 - val_accuracy: 0.6667\n",
            "Epoch 45/50\n",
            "700/700 - 1s - loss: 0.6744 - accuracy: 0.7500 - val_loss: 0.9996 - val_accuracy: 0.6667\n",
            "Epoch 46/50\n",
            "700/700 - 1s - loss: 0.6790 - accuracy: 0.7543 - val_loss: 1.0112 - val_accuracy: 0.6600\n",
            "Epoch 47/50\n",
            "700/700 - 1s - loss: 0.6782 - accuracy: 0.7514 - val_loss: 1.0349 - val_accuracy: 0.6667\n",
            "Epoch 48/50\n",
            "700/700 - 1s - loss: 0.6654 - accuracy: 0.7400 - val_loss: 0.9936 - val_accuracy: 0.6767\n",
            "Epoch 49/50\n",
            "700/700 - 1s - loss: 0.6814 - accuracy: 0.7329 - val_loss: 1.0155 - val_accuracy: 0.6633\n",
            "Epoch 50/50\n",
            "700/700 - 1s - loss: 0.6940 - accuracy: 0.7357 - val_loss: 1.0540 - val_accuracy: 0.6633\n"
          ]
        }
      ]
    },
    {
      "cell_type": "markdown",
      "metadata": {
        "id": "LbTw3kZZxamH"
      },
      "source": [
        "### b)\n",
        "Plot accuracies on training and test data against training epochs and\n",
        "comment on the plots.\n",
        "\n"
      ]
    },
    {
      "cell_type": "code",
      "metadata": {
        "colab": {
          "base_uri": "https://localhost:8080/",
          "height": 312
        },
        "id": "MURjBTNkxwEL",
        "outputId": "a3ce5f09-0ae0-4b05-c6ab-97da6aa13b67"
      },
      "source": [
        "plt.figure(1)\n",
        "plt.plot(history.history['accuracy'])\n",
        "plt.plot(history.history['val_accuracy'])\n",
        "plt.title('model accuracy')\n",
        "plt.ylabel('accuracy')\n",
        "plt.xlabel('epoch')\n",
        "plt.xticks([5, 10, 15, 20, 25, 30, 35, 40, 45, 50])\n",
        "plt.legend(['train', 'test'], loc='upper left')"
      ],
      "execution_count": 8,
      "outputs": [
        {
          "output_type": "execute_result",
          "data": {
            "text/plain": [
              "<matplotlib.legend.Legend at 0x7fb1c75bdd90>"
            ]
          },
          "metadata": {},
          "execution_count": 8
        },
        {
          "output_type": "display_data",
          "data": {
            "image/png": "[encoded data removed]",
            "text/plain": [
              "<Figure size 432x288 with 1 Axes>"
            ]
          },
          "metadata": {
            "needs_background": "light"
          }
        }
      ]
    },
    {
      "cell_type": "markdown",
      "metadata": {
        "id": "_oPdFA1z4SA1"
      },
      "source": [
        "The accuracies are higher for the train data than they are for test data. This is because the test data contains values that the model hasn't trained for. Test accuracy converges much faster than the train accuracy."
      ]
    },
    {
      "cell_type": "markdown",
      "metadata": {
        "id": "YPhNsIHex5R6"
      },
      "source": [
        "### c)\n",
        "Plot the losses on training and test data against training epochs. State the\n",
        "approximate number of epochs where the test error begins to converge.\n",
        "\n"
      ]
    },
    {
      "cell_type": "code",
      "metadata": {
        "colab": {
          "base_uri": "https://localhost:8080/",
          "height": 312
        },
        "id": "vTJNAb4hx5R8",
        "outputId": "2755f913-67a2-4f2e-8f35-5dbc0ddc6a0d"
      },
      "source": [
        "plt.figure(2)\n",
        "plt.plot(history.history['loss'])\n",
        "plt.plot(history.history['val_loss'])\n",
        "plt.title('model loss')\n",
        "plt.ylabel('cross-entropy')\n",
        "plt.xlabel('epoch')\n",
        "plt.xticks([5, 10, 15, 20, 25, 30, 35, 40, 45, 50])\n",
        "plt.legend(['train', 'test'], loc='upper left')"
      ],
      "execution_count": 9,
      "outputs": [
        {
          "output_type": "execute_result",
          "data": {
            "text/plain": [
              "<matplotlib.legend.Legend at 0x7fb1c7062150>"
            ]
          },
          "metadata": {},
          "execution_count": 9
        },
        {
          "output_type": "display_data",
          "data": {
            "image/png": "[encoded data removed]",
            "text/plain": [
              "<Figure size 432x288 with 1 Axes>"
            ]
          },
          "metadata": {
            "needs_background": "light"
          }
        }
      ]
    },
    {
      "cell_type": "markdown",
      "metadata": {
        "id": "jcpBscGL5Aul"
      },
      "source": [
        "The test error begins to converge at approximately 13 epochs\n"
      ]
    },
    {
      "cell_type": "markdown",
      "metadata": {
        "id": "xmqr0y-I2G7y"
      },
      "source": [
        "## Question 2\n",
        "In this question, we will compare the performance of the model using stochastic gradient\n",
        "descent and mini-batch gradient descent, as well as determining the optimal batch size\n",
        "for mini-batch gradient descent. Find the optimal batch size for mini-batch gradient\n",
        "descent by training the neural network and evaluating the performances for different\n",
        "batch sizes. Note: Use 3-fold cross-validation on training partition to perform parameter\n",
        "selection.\n"
      ]
    },
    {
      "cell_type": "code",
      "metadata": {
        "id": "tqkGJ5yi4CtZ"
      },
      "source": [
        "import time\n",
        "class TimingCallback(keras.callbacks.Callback):\n",
        "  def __init__(self, logs={}):\n",
        "    self.times=[]\n",
        "  def on_epoch_begin(self, batch, logs={}):\n",
        "    self.starttime = time.time()\n",
        "  def on_epoch_end(self, batch, logs={}):\n",
        "    self.times.append(time.time()-self.starttime)"
      ],
      "execution_count": 10,
      "outputs": []
    },
    {
      "cell_type": "code",
      "metadata": {
        "id": "v4qk7EAI3zuh"
      },
      "source": [
        "\n",
        "num_data = len(df.index)\n",
        "num_folds = 3\n",
        "X = df.drop(columns_to_drop,axis=1).to_numpy()\n",
        "Y = df['label'].to_numpy()\n",
        "idx = np.arange(num_data)\n",
        "np.random.shuffle(idx)\n",
        "X, Y = X[idx], Y[idx]\n",
        "nf = num_data//num_folds\n",
        "batch_sizes=[1,4,8,16,32,64]\n",
        "acc=[[] for i in range(len(batch_sizes))]\n",
        "times=[[] for i in range(len(batch_sizes))]\n",
        "for fold in range(num_folds):\n",
        "    start, end = fold*nf, (fold+1)*nf\n",
        "    x_test, y_test = X[start:end], Y[start:end]\n",
        "    x_train  = np.append(X[:start], X[end:], axis=0)\n",
        "    y_train = np.append(Y[:start], Y[end:], axis=0) \n",
        "    standard_scaler = preprocessing.StandardScaler()\n",
        "    x_train_scaled = standard_scaler.fit_transform(x_train)\n",
        "    #scale and prepare testing data\n",
        "    x_test_scaled = standard_scaler.transform(x_test)\n",
        "    \n",
        "    for i in range(len(batch_sizes)):\n",
        "      model = Sequential([\n",
        "      Dense(16, activation='relu'),\n",
        "      Dropout(0.3),\n",
        "      Dense(10, activation='softmax')\n",
        "      ]) \n",
        "      model.compile(optimizer='adam',\n",
        "              loss='sparse_categorical_crossentropy',\n",
        "              metrics=['accuracy'])\n",
        "      cb = TimingCallback()\n",
        "      history = model.fit(x_train_scaled, y_train,\n",
        "                      epochs=num_epochs,\n",
        "                      verbose=0,\n",
        "                      batch_size=batch_sizes[i],\n",
        "                      use_multiprocessing=True,\n",
        "                      callbacks = [cb],\n",
        "                      validation_data=(x_test_scaled, y_test))\n",
        "      times[i].append(cb.times)\n",
        "      acc[i].append(history.history['val_accuracy'])"
      ],
      "execution_count": 13,
      "outputs": []
    },
    {
      "cell_type": "markdown",
      "metadata": {
        "id": "NWgnzAVr2TOo"
      },
      "source": [
        "### a)\n",
        "Plot mean cross-validation accuracies over the training epochs for different\n",
        "batch sizes. Limit search space to batch sizes {1,4,8,16,32, 64}."
      ]
    },
    {
      "cell_type": "code",
      "metadata": {
        "id": "ynnOpbSrgJkw",
        "colab": {
          "base_uri": "https://localhost:8080/",
          "height": 312
        },
        "outputId": "b0741075-7aba-4335-b538-d6ccd77989f6"
      },
      "source": [
        "plt.figure(3)\n",
        "plt.title('Cross-Validation Accuracies for Batch Sizes')\n",
        "plt.ylabel('Cross-Validation Accuracy')\n",
        "plt.xlabel('Epoch')\n",
        "for i in range(len(batch_sizes)):\n",
        "  plt.plot(np.mean( np.array([acc[i][0], acc[i][1],acc[i][2] ]), axis=0 ))\n",
        "plt.xticks([5, 10, 15, 20, 25, 30, 35, 40, 45, 50])\n",
        "plt.legend(['1','4','8','16','32','64'], loc='upper left')\n",
        "\n",
        "\n",
        "  "
      ],
      "execution_count": 20,
      "outputs": [
        {
          "output_type": "execute_result",
          "data": {
            "text/plain": [
              "<matplotlib.legend.Legend at 0x7fb1c1c34950>"
            ]
          },
          "metadata": {},
          "execution_count": 20
        },
        {
          "output_type": "display_data",
          "data": {
            "image/png": "[encoded data removed]",
            "text/plain": [
              "<Figure size 432x288 with 1 Axes>"
            ]
          },
          "metadata": {
            "needs_background": "light"
          }
        }
      ]
    },
    {
      "cell_type": "markdown",
      "metadata": {
        "id": "pst_pV6u3-hU"
      },
      "source": [
        "### b)\n",
        "Create a table of median time taken to train the network for one epoch\n",
        "against different batch sizes.\n",
        "(Hint: Introduce a callback)"
      ]
    },
    {
      "cell_type": "code",
      "metadata": {
        "id": "K11uoSXP_mdD",
        "colab": {
          "base_uri": "https://localhost:8080/"
        },
        "outputId": "82801a30-3cba-46db-83cf-da4a07538f55"
      },
      "source": [
        "print(\"Batch Size\\tTime\")\n",
        "for i in range(len(batch_sizes)):\n",
        "  mean=np.mean( np.array([times[i][0], times[i][1],times[i][2] ]), axis=0 )\n",
        "  median=np.median(mean)\n",
        "  print(batch_sizes[i],\"\\t\\t\",median ,\" seconds\")"
      ],
      "execution_count": 15,
      "outputs": [
        {
          "output_type": "stream",
          "name": "stdout",
          "text": [
            "Batch Size\tTime\n",
            "1 \t\t 0.9080320596694946  seconds\n",
            "4 \t\t 0.28303416570027673  seconds\n",
            "8 \t\t 0.15053558349609375  seconds\n",
            "16 \t\t 0.07870777448018391  seconds\n",
            "32 \t\t 0.0521778662999471  seconds\n",
            "64 \t\t 0.04180959860483806  seconds\n"
          ]
        }
      ]
    },
    {
      "cell_type": "markdown",
      "metadata": {
        "id": "3PckFqbI3-nE"
      },
      "source": [
        "### c)\n",
        "Select the optimal batch size and state reasons for your selection"
      ]
    },
    {
      "cell_type": "code",
      "metadata": {
        "id": "Nru_Hba2fjNh"
      },
      "source": [
        "optimal_batch_size=8"
      ],
      "execution_count": 16,
      "outputs": []
    },
    {
      "cell_type": "markdown",
      "metadata": {
        "id": "AYxXHEv8Xd5k"
      },
      "source": [
        "A tradeoff between accuracy and time taken to train the epoch was used to choose the batch size. Although a batch size of 1 has the earliest convergence, the time to train an epoch is much higher (0.93 seconds). Next, batch sizes of 4 and 8 have roughly similar plots for cross validation accuracy. Batch sizes of 16, 32, and 64 are much lower in accuracy so they are not considered. Between 4 and 8, 8 takes lesser time to train and is chosen as the optimal batch size."
      ]
    },
    {
      "cell_type": "markdown",
      "metadata": {
        "id": "GkPWfypt3-uM"
      },
      "source": [
        "### d)\n",
        "What is the difference between mini-batch gradient descent and stochastic\n",
        "gradient descent and what does this mean for model training?\n"
      ]
    },
    {
      "cell_type": "markdown",
      "metadata": {
        "id": "A5i2MXP_x3Di"
      },
      "source": [
        "Stochastic gradient descent calculates the error and updates the model for each sample in the training dataset. Updating the model so frequently is computationally expensive and causes it to take more time in training the model. On the other hand, they immediately give details on the performance of the model and the rate of improvement.\n",
        "Mini-batch gradient descent splits the training dataset into small batches that are used to calculate model error and update model coefficients. The batched updates make it a more efficient process than stochastic gradient descent. While not as robust as SGD, it updates more frequently than batch gradient descent resulting in a more robust convergence, avoiding local minima."
      ]
    },
    {
      "cell_type": "markdown",
      "metadata": {
        "id": "5wlucf2d4BDI"
      },
      "source": [
        "### e)\n",
        "Plot the train and test accuracies against epochs for the optimal batch size. "
      ]
    },
    {
      "cell_type": "code",
      "metadata": {
        "id": "O7vZPYu8xcau",
        "colab": {
          "base_uri": "https://localhost:8080/",
          "height": 312
        },
        "outputId": "ed6407b6-bc8c-468a-8d45-7b138fd17378"
      },
      "source": [
        "X_train, y_train, X_test, y_test = prepare_dataset(df, columns_to_drop, test_size=0.3, random_state=0)\n",
        "model = Sequential([\n",
        "      Dense(16, activation='relu'),\n",
        "      Dropout(0.3),\n",
        "      Dense(10, activation='softmax')\n",
        "      ]) \n",
        "model.compile(optimizer='adam',\n",
        "              loss='sparse_categorical_crossentropy',\n",
        "              metrics=['accuracy'])\n",
        "history = model.fit(X_train, y_train,\n",
        "                      epochs=num_epochs,\n",
        "                      verbose=0,\n",
        "                      batch_size=optimal_batch_size,\n",
        "                      use_multiprocessing=True,\n",
        "                      validation_data=(X_test, y_test))\n",
        "plt.figure(1)\n",
        "plt.plot(history.history['accuracy'])\n",
        "plt.plot(history.history['val_accuracy'])\n",
        "plt.title('Model Accuracy for Optimal Batch Size')\n",
        "plt.ylabel('Accuracy')\n",
        "plt.xlabel('Epoch')\n",
        "plt.xticks([5, 10, 15, 20, 25, 30, 35, 40, 45, 50])\n",
        "plt.legend(['Train', 'Test'], loc='upper left')"
      ],
      "execution_count": 19,
      "outputs": [
        {
          "output_type": "execute_result",
          "data": {
            "text/plain": [
              "<matplotlib.legend.Legend at 0x7fb1bb1aee50>"
            ]
          },
          "metadata": {},
          "execution_count": 19
        },
        {
          "output_type": "display_data",
          "data": {
            "image/png": "[encoded data removed]",
            "text/plain": [
              "<Figure size 432x288 with 1 Axes>"
            ]
          },
          "metadata": {
            "needs_background": "light"
          }
        }
      ]
    },
    {
      "cell_type": "markdown",
      "metadata": {
        "id": "Z2TNqk835pS_"
      },
      "source": [
        "## Question 3\n",
        "Find the optimal number of hidden neurons for the 2-layer network (i.e., one hidden\n",
        "layer) designed in Question 1 and 2."
      ]
    },
    {
      "cell_type": "code",
      "metadata": {
        "id": "SZPR-x4t57FZ"
      },
      "source": [
        "num_data = len(df.index)\n",
        "num_folds = 3\n",
        "X = df.drop(columns_to_drop,axis=1).to_numpy()\n",
        "Y = df['label'].to_numpy()\n",
        "idx = np.arange(num_data)\n",
        "np.random.shuffle(idx)\n",
        "X, Y = X[idx], Y[idx]\n",
        "nf = num_data//num_folds\n",
        "num_neurons=[8,16,32,64]\n",
        "acc=[[] for i in range(len(num_neurons))]\n",
        "for fold in range(num_folds):\n",
        "    start, end = fold*nf, (fold+1)*nf\n",
        "    x_test, y_test = X[start:end], Y[start:end]\n",
        "    x_train  = np.append(X[:start], X[end:], axis=0)\n",
        "    y_train = np.append(Y[:start], Y[end:], axis=0) \n",
        "    standard_scaler = preprocessing.StandardScaler()\n",
        "    x_train_scaled = standard_scaler.fit_transform(x_train)\n",
        "    #scale and prepare testing data\n",
        "    x_test_scaled = standard_scaler.transform(x_test)\n",
        "    for i in range(len(num_neurons)):\n",
        "      model = Sequential([\n",
        "      Dense(num_neurons[i], activation='relu'),\n",
        "      Dropout(0.3),\n",
        "      Dense(10, activation='softmax')\n",
        "  ])\n",
        "      \n",
        "      model.compile(optimizer='adam',\n",
        "                loss='sparse_categorical_crossentropy',\n",
        "                metrics=['accuracy'])\n",
        "      \n",
        "      history = model.fit(x_train_scaled, y_train,\n",
        "                          epochs=num_epochs,\n",
        "                          verbose=0,\n",
        "                          batch_size=optimal_batch_size,\n",
        "                          use_multiprocessing=True,\n",
        "                          validation_data=(x_test_scaled, y_test))\n",
        "      acc[i].append(history.history['val_accuracy'])"
      ],
      "execution_count": 21,
      "outputs": []
    },
    {
      "cell_type": "markdown",
      "metadata": {
        "id": "iURj7XXB5-rk"
      },
      "source": [
        "### a)\n",
        "Plot the cross-validation accuracies against training epochs for different\n",
        "numbers of hidden-layer neurons. Limit the search space of the number of\n",
        "neurons to {8, 16, 32, 64}.\n",
        "Continue using 3-fold cross validation on training dataset.\n"
      ]
    },
    {
      "cell_type": "code",
      "metadata": {
        "id": "cjeRa1qrZOvM",
        "colab": {
          "base_uri": "https://localhost:8080/",
          "height": 312
        },
        "outputId": "a386688f-38ad-432c-e448-8585bb1b0b1e"
      },
      "source": [
        "plt.figure(4)\n",
        "plt.title('Cross-Validation Accuracies for Neurons')\n",
        "plt.ylabel('Cross-Validation Accuracy')\n",
        "plt.xlabel('Epoch')\n",
        "for i in range(len(num_neurons)):\n",
        "  plt.plot(np.mean( np.array([acc[i][0], acc[i][1],acc[i][2] ]), axis=0 ))\n",
        "plt.xticks([5, 10, 15, 20, 25, 30, 35, 40, 45, 50])\n",
        "plt.legend(['8','16','32','64'], loc='upper left')"
      ],
      "execution_count": 22,
      "outputs": [
        {
          "output_type": "execute_result",
          "data": {
            "text/plain": [
              "<matplotlib.legend.Legend at 0x7fb1c22f7450>"
            ]
          },
          "metadata": {},
          "execution_count": 22
        },
        {
          "output_type": "display_data",
          "data": {
            "image/png": "[encoded data removed]",
            "text/plain": [
              "<Figure size 432x288 with 1 Axes>"
            ]
          },
          "metadata": {
            "needs_background": "light"
          }
        }
      ]
    },
    {
      "cell_type": "markdown",
      "metadata": {
        "id": "fLP216uZ6FQv"
      },
      "source": [
        "### b)\n",
        "Select the optimal number of neurons for the hidden layer. State the\n",
        "rationale for your selection.\n"
      ]
    },
    {
      "cell_type": "code",
      "metadata": {
        "id": "w_T9mbHVijVJ"
      },
      "source": [
        "optimal_neuron_num=32"
      ],
      "execution_count": 23,
      "outputs": []
    },
    {
      "cell_type": "markdown",
      "metadata": {
        "id": "pgMUF3kYEaO4"
      },
      "source": [
        "While 64 neurons is the best choice, 32 neurons is chosen as the difference between the two is small and 32 results in a less complex model. This reduces chances of overfitting."
      ]
    },
    {
      "cell_type": "markdown",
      "metadata": {
        "id": "xTy1OGit6Faq"
      },
      "source": [
        "### c)\n",
        "Plot the train and test accuracies against training epochs with the optimal\n",
        "number of neurons.\n"
      ]
    },
    {
      "cell_type": "code",
      "metadata": {
        "id": "B0MKQuY20FKC",
        "colab": {
          "base_uri": "https://localhost:8080/",
          "height": 312
        },
        "outputId": "3ef9d77e-d708-45af-ece0-ed225d34df30"
      },
      "source": [
        "X_train, y_train, X_test, y_test = prepare_dataset(df, columns_to_drop, test_size=0.3, random_state=0)\n",
        "model = Sequential([\n",
        "      Dense(optimal_neuron_num, activation='relu'),\n",
        "      Dropout(0.3),\n",
        "      Dense(10, activation='softmax')\n",
        "      ]) \n",
        "model.compile(optimizer='adam',\n",
        "              loss='sparse_categorical_crossentropy',\n",
        "              metrics=['accuracy'])\n",
        "history = model.fit(X_train, y_train,\n",
        "                  epochs=num_epochs,\n",
        "                  verbose=0,\n",
        "                  batch_size=optimal_batch_size,\n",
        "                  use_multiprocessing=True,\n",
        "                  validation_data=(X_test, y_test))\n",
        "plt.figure(1)\n",
        "plt.plot(history.history['accuracy'])\n",
        "plt.plot(history.history['val_accuracy'])\n",
        "plt.title('model accuracy')\n",
        "plt.ylabel('accuracy')\n",
        "plt.xlabel('epoch')\n",
        "plt.xticks([5, 10, 15, 20, 25, 30, 35, 40, 45, 50])\n",
        "plt.legend(['train', 'test'], loc='upper left')"
      ],
      "execution_count": 25,
      "outputs": [
        {
          "output_type": "execute_result",
          "data": {
            "text/plain": [
              "<matplotlib.legend.Legend at 0x7fb1c1e57c50>"
            ]
          },
          "metadata": {},
          "execution_count": 25
        },
        {
          "output_type": "display_data",
          "data": {
            "image/png": "[encoded data removed]",
            "text/plain": [
              "<Figure size 432x288 with 1 Axes>"
            ]
          },
          "metadata": {
            "needs_background": "light"
          }
        }
      ]
    },
    {
      "cell_type": "markdown",
      "metadata": {
        "id": "N-daWI_L6HEX"
      },
      "source": [
        "### d)\n",
        "What other parameters could possibly be tuned?\n"
      ]
    },
    {
      "cell_type": "markdown",
      "metadata": {
        "id": "1Ui2AQqk1Hkg"
      },
      "source": [
        "There are several other parameters that can be tuned. The dropout rate can be optimized. Apart from this, the optimizer parameters such as learning rate can also be adjusted. The activation function can be adjusted and the number of layers can also be changed. The weights and biases can also be tuned according to the best model."
      ]
    },
    {
      "cell_type": "markdown",
      "metadata": {
        "id": "0kKIrYJP7WYJ"
      },
      "source": [
        "## Question 4\n",
        "After you are done with the 2-layer network, design a 3-layer network with two hiddenlayers with ReLU activation, each consisting of the optimal number of neurons you\n",
        "obtained in Question 3, (apply a dropout with a probability of 0.3 for each hidden layer),\n",
        "and train it with a batch size of 1.\n"
      ]
    },
    {
      "cell_type": "code",
      "metadata": {
        "id": "3_Cs7LPWvnAU",
        "colab": {
          "base_uri": "https://localhost:8080/"
        },
        "outputId": "10572faf-d40e-48e9-8cc3-36f9a51211f9"
      },
      "source": [
        "X_train, y_train, X_test, y_test = prepare_dataset(df, columns_to_drop, test_size=0.3, random_state=0)\n",
        "network2 = Sequential([\n",
        "    Dense(optimal_neuron_num, activation='relu'),\n",
        "    Dropout(0.3),\n",
        "    Dense(optimal_neuron_num, activation='relu'),\n",
        "    Dropout(0.3),\n",
        "    Dense(10, activation='softmax')\n",
        "])\n",
        "network2.compile(optimizer='adam',\n",
        "              loss='sparse_categorical_crossentropy',\n",
        "              metrics=['accuracy'])\n",
        "batch_size=1\n",
        "history2 = network2.fit(X_train, y_train, \n",
        "                    epochs=num_epochs, \n",
        "                    batch_size = batch_size,\n",
        "                    verbose=2,\n",
        "                    use_multiprocessing=True,\n",
        "                    validation_data=(X_test, y_test)\n",
        "                    )"
      ],
      "execution_count": 26,
      "outputs": [
        {
          "output_type": "stream",
          "name": "stdout",
          "text": [
            "Epoch 1/50\n",
            "700/700 - 2s - loss: 2.1891 - accuracy: 0.2371 - val_loss: 1.7536 - val_accuracy: 0.3900\n",
            "Epoch 2/50\n",
            "700/700 - 1s - loss: 1.6795 - accuracy: 0.3886 - val_loss: 1.4989 - val_accuracy: 0.4700\n",
            "Epoch 3/50\n",
            "700/700 - 1s - loss: 1.5086 - accuracy: 0.4557 - val_loss: 1.3407 - val_accuracy: 0.5133\n",
            "Epoch 4/50\n",
            "700/700 - 1s - loss: 1.3771 - accuracy: 0.4571 - val_loss: 1.2860 - val_accuracy: 0.5500\n",
            "Epoch 5/50\n",
            "700/700 - 1s - loss: 1.2664 - accuracy: 0.5286 - val_loss: 1.2218 - val_accuracy: 0.5400\n",
            "Epoch 6/50\n",
            "700/700 - 1s - loss: 1.2023 - accuracy: 0.5886 - val_loss: 1.1455 - val_accuracy: 0.5733\n",
            "Epoch 7/50\n",
            "700/700 - 1s - loss: 1.0821 - accuracy: 0.5843 - val_loss: 1.1259 - val_accuracy: 0.5900\n",
            "Epoch 8/50\n",
            "700/700 - 1s - loss: 1.0878 - accuracy: 0.6229 - val_loss: 1.1776 - val_accuracy: 0.5733\n",
            "Epoch 9/50\n",
            "700/700 - 1s - loss: 1.0768 - accuracy: 0.6171 - val_loss: 1.0956 - val_accuracy: 0.6200\n",
            "Epoch 10/50\n",
            "700/700 - 1s - loss: 0.9921 - accuracy: 0.6457 - val_loss: 1.0758 - val_accuracy: 0.6300\n",
            "Epoch 11/50\n",
            "700/700 - 1s - loss: 0.9909 - accuracy: 0.6486 - val_loss: 1.0538 - val_accuracy: 0.6233\n",
            "Epoch 12/50\n",
            "700/700 - 1s - loss: 0.9533 - accuracy: 0.6414 - val_loss: 1.1201 - val_accuracy: 0.6233\n",
            "Epoch 13/50\n",
            "700/700 - 1s - loss: 0.9081 - accuracy: 0.6643 - val_loss: 1.0554 - val_accuracy: 0.6500\n",
            "Epoch 14/50\n",
            "700/700 - 1s - loss: 0.8845 - accuracy: 0.6800 - val_loss: 1.0401 - val_accuracy: 0.6400\n",
            "Epoch 15/50\n",
            "700/700 - 1s - loss: 0.9114 - accuracy: 0.6957 - val_loss: 1.0283 - val_accuracy: 0.6500\n",
            "Epoch 16/50\n",
            "700/700 - 1s - loss: 0.8151 - accuracy: 0.6943 - val_loss: 1.0395 - val_accuracy: 0.6700\n",
            "Epoch 17/50\n",
            "700/700 - 1s - loss: 0.8290 - accuracy: 0.7014 - val_loss: 1.0383 - val_accuracy: 0.6633\n",
            "Epoch 18/50\n",
            "700/700 - 1s - loss: 0.8586 - accuracy: 0.7029 - val_loss: 1.0645 - val_accuracy: 0.6333\n",
            "Epoch 19/50\n",
            "700/700 - 1s - loss: 0.8260 - accuracy: 0.6743 - val_loss: 1.0274 - val_accuracy: 0.6767\n",
            "Epoch 20/50\n",
            "700/700 - 1s - loss: 0.8052 - accuracy: 0.7471 - val_loss: 1.0675 - val_accuracy: 0.6467\n",
            "Epoch 21/50\n",
            "700/700 - 1s - loss: 0.8474 - accuracy: 0.7257 - val_loss: 1.0438 - val_accuracy: 0.6600\n",
            "Epoch 22/50\n",
            "700/700 - 1s - loss: 0.7546 - accuracy: 0.7243 - val_loss: 1.0323 - val_accuracy: 0.6700\n",
            "Epoch 23/50\n",
            "700/700 - 1s - loss: 0.8127 - accuracy: 0.6971 - val_loss: 1.0573 - val_accuracy: 0.6633\n",
            "Epoch 24/50\n",
            "700/700 - 1s - loss: 0.7537 - accuracy: 0.7229 - val_loss: 1.0423 - val_accuracy: 0.6667\n",
            "Epoch 25/50\n",
            "700/700 - 1s - loss: 0.7273 - accuracy: 0.7500 - val_loss: 1.0191 - val_accuracy: 0.6733\n",
            "Epoch 26/50\n",
            "700/700 - 1s - loss: 0.7211 - accuracy: 0.7429 - val_loss: 0.9702 - val_accuracy: 0.6867\n",
            "Epoch 27/50\n",
            "700/700 - 1s - loss: 0.6874 - accuracy: 0.7429 - val_loss: 1.0349 - val_accuracy: 0.6600\n",
            "Epoch 28/50\n",
            "700/700 - 1s - loss: 0.6963 - accuracy: 0.7343 - val_loss: 1.0078 - val_accuracy: 0.6767\n",
            "Epoch 29/50\n",
            "700/700 - 1s - loss: 0.6877 - accuracy: 0.7543 - val_loss: 1.0428 - val_accuracy: 0.6800\n",
            "Epoch 30/50\n",
            "700/700 - 1s - loss: 0.7020 - accuracy: 0.7514 - val_loss: 1.0274 - val_accuracy: 0.6833\n",
            "Epoch 31/50\n",
            "700/700 - 1s - loss: 0.6139 - accuracy: 0.7843 - val_loss: 1.1033 - val_accuracy: 0.6733\n",
            "Epoch 32/50\n",
            "700/700 - 1s - loss: 0.6790 - accuracy: 0.7414 - val_loss: 1.0094 - val_accuracy: 0.6900\n",
            "Epoch 33/50\n",
            "700/700 - 1s - loss: 0.6688 - accuracy: 0.7543 - val_loss: 1.0379 - val_accuracy: 0.6933\n",
            "Epoch 34/50\n",
            "700/700 - 1s - loss: 0.6369 - accuracy: 0.7800 - val_loss: 1.0602 - val_accuracy: 0.6800\n",
            "Epoch 35/50\n",
            "700/700 - 1s - loss: 0.6095 - accuracy: 0.7843 - val_loss: 1.0736 - val_accuracy: 0.6867\n",
            "Epoch 36/50\n",
            "700/700 - 1s - loss: 0.6459 - accuracy: 0.7586 - val_loss: 1.0098 - val_accuracy: 0.7067\n",
            "Epoch 37/50\n",
            "700/700 - 1s - loss: 0.5720 - accuracy: 0.7943 - val_loss: 0.9944 - val_accuracy: 0.6833\n",
            "Epoch 38/50\n",
            "700/700 - 1s - loss: 0.5451 - accuracy: 0.8171 - val_loss: 1.0829 - val_accuracy: 0.6867\n",
            "Epoch 39/50\n",
            "700/700 - 1s - loss: 0.5690 - accuracy: 0.8029 - val_loss: 1.1417 - val_accuracy: 0.6733\n",
            "Epoch 40/50\n",
            "700/700 - 1s - loss: 0.5955 - accuracy: 0.7929 - val_loss: 1.1843 - val_accuracy: 0.6733\n",
            "Epoch 41/50\n",
            "700/700 - 1s - loss: 0.6402 - accuracy: 0.7857 - val_loss: 1.0420 - val_accuracy: 0.6667\n",
            "Epoch 42/50\n",
            "700/700 - 1s - loss: 0.5896 - accuracy: 0.7943 - val_loss: 1.0430 - val_accuracy: 0.6867\n",
            "Epoch 43/50\n",
            "700/700 - 1s - loss: 0.6128 - accuracy: 0.7843 - val_loss: 1.0530 - val_accuracy: 0.6833\n",
            "Epoch 44/50\n",
            "700/700 - 1s - loss: 0.5906 - accuracy: 0.8086 - val_loss: 1.1325 - val_accuracy: 0.6867\n",
            "Epoch 45/50\n",
            "700/700 - 1s - loss: 0.5948 - accuracy: 0.7871 - val_loss: 1.0789 - val_accuracy: 0.7000\n",
            "Epoch 46/50\n",
            "700/700 - 1s - loss: 0.5196 - accuracy: 0.8171 - val_loss: 1.0820 - val_accuracy: 0.6967\n",
            "Epoch 47/50\n",
            "700/700 - 1s - loss: 0.5480 - accuracy: 0.8057 - val_loss: 1.1246 - val_accuracy: 0.6833\n",
            "Epoch 48/50\n",
            "700/700 - 1s - loss: 0.5929 - accuracy: 0.7786 - val_loss: 1.1423 - val_accuracy: 0.7100\n",
            "Epoch 49/50\n",
            "700/700 - 1s - loss: 0.5723 - accuracy: 0.7957 - val_loss: 1.1433 - val_accuracy: 0.6967\n",
            "Epoch 50/50\n",
            "700/700 - 1s - loss: 0.5634 - accuracy: 0.8100 - val_loss: 1.2132 - val_accuracy: 0.6967\n"
          ]
        }
      ]
    },
    {
      "cell_type": "markdown",
      "metadata": {
        "id": "3No_dpvH7gwR"
      },
      "source": [
        "### a)\n",
        "Plot the train and test accuracy of the 3-layer network against training\n",
        "epochs."
      ]
    },
    {
      "cell_type": "code",
      "metadata": {
        "id": "nTHJg-Cswb3n",
        "colab": {
          "base_uri": "https://localhost:8080/",
          "height": 312
        },
        "outputId": "ea4fad83-4992-411f-c75e-94b29af99cdc"
      },
      "source": [
        "plt.figure(1)\n",
        "plt.plot(history2.history['accuracy'])\n",
        "plt.plot(history2.history['val_accuracy'])\n",
        "plt.title('model accuracy')\n",
        "plt.ylabel('accuracy')\n",
        "plt.xlabel('epoch')\n",
        "plt.xticks([5, 10, 15, 20, 25, 30, 35, 40, 45, 50])\n",
        "plt.legend(['train', 'test'], loc='upper left')"
      ],
      "execution_count": 27,
      "outputs": [
        {
          "output_type": "execute_result",
          "data": {
            "text/plain": [
              "<matplotlib.legend.Legend at 0x7fb1c1d55650>"
            ]
          },
          "metadata": {},
          "execution_count": 27
        },
        {
          "output_type": "display_data",
          "data": {
            "image/png": "[encoded data removed]",
            "text/plain": [
              "<Figure size 432x288 with 1 Axes>"
            ]
          },
          "metadata": {
            "needs_background": "light"
          }
        }
      ]
    },
    {
      "cell_type": "markdown",
      "metadata": {
        "id": "7Hc3UWJU7qMA"
      },
      "source": [
        "### b)\n",
        "Compare and comment on the performances of the optimal 2-layer network\n",
        "from your hyperparameter tuning in Question 2 and 3 and the 3-layer\n",
        "network."
      ]
    },
    {
      "cell_type": "code",
      "metadata": {
        "colab": {
          "base_uri": "https://localhost:8080/"
        },
        "id": "lwEsd4G4wf8n",
        "outputId": "284b41ce-2ee1-4dc4-ce2e-ba4f7acd5338"
      },
      "source": [
        "print(\"2-layer network\")\n",
        "print(\"Mean accuracy of train data:\",np.mean(history.history['accuracy']))\n",
        "print(\"Mean accuracy of test data:\",np.mean(history.history['val_accuracy']))\n",
        "print(\"Mean loss of train data:\",np.mean(history.history['loss']))\n",
        "print(\"Mean loss of test data:\",np.mean(history.history['val_loss']))\n",
        "print(\"3-layer network\")\n",
        "print(\"Mean accuracy of train data:\",np.mean(history2.history['accuracy']))\n",
        "print(\"Mean accuracy of test data:\",np.mean(history2.history['val_accuracy']))\n",
        "print(\"Mean loss of train data:\",np.mean(history2.history['loss']))\n",
        "print(\"Mean loss of test data:\",np.mean(history2.history['val_loss']))"
      ],
      "execution_count": 31,
      "outputs": [
        {
          "output_type": "stream",
          "name": "stdout",
          "text": [
            "2-layer network\n",
            "Mean accuracy of train data: 0.6843714281916619\n",
            "Mean accuracy of test data: 0.620399996638298\n",
            "Mean loss of train data: 0.8928592705726623\n",
            "Mean loss of test data: 1.094711433649063\n",
            "3-layer network\n",
            "Mean accuracy of train data: 0.701971428990364\n",
            "Mean accuracy of test data: 0.6480000013113022\n",
            "Mean loss of train data: 0.8318776738643646\n",
            "Mean loss of test data: 1.105731270313263\n"
          ]
        }
      ]
    },
    {
      "cell_type": "markdown",
      "metadata": {
        "id": "iD7WlSZ1QRyo"
      },
      "source": [
        "The 3-layer network has a higher mean accuracy and lower mean loss on test data. This is because of more layers causing the model to fit better with the train data. Also, the mean loss on test data is higher in the 3-layer network."
      ]
    },
    {
      "cell_type": "markdown",
      "metadata": {
        "id": "bLd55hM076So"
      },
      "source": [
        "## Question 5\n",
        "We are going to dissect the purpose of dropout in the model."
      ]
    },
    {
      "cell_type": "markdown",
      "metadata": {
        "id": "QQ00TRbd8DnQ"
      },
      "source": [
        "### a)\n",
        "Why do we add dropouts? Investigate the purpose of dropouts by removing\n",
        "dropouts from your original 2-layer network (before changing the batch size\n",
        "and number of neurons). Plot accuracies on training and test data with neural\n",
        "network without dropout. Plot as well the losses on training and test data with\n",
        "neural network without dropout."
      ]
    },
    {
      "cell_type": "markdown",
      "metadata": {
        "id": "MBulbwKZMzeT"
      },
      "source": [
        "Dropouts are added in order to prevent overfitting of the neural network model.Overfitting can be harmful as it results in the model learning the statistical noise in the training data. This causes a poor performance when tested against new, unseen data. The model becomes too less generalized."
      ]
    },
    {
      "cell_type": "code",
      "metadata": {
        "id": "FnAilFAz8A33",
        "colab": {
          "base_uri": "https://localhost:8080/"
        },
        "outputId": "9968e2dd-6c61-45c7-d3e3-2c7832cf8da7"
      },
      "source": [
        "X_train, y_train, X_test, y_test = prepare_dataset(df, columns_to_drop, test_size=0.3, random_state=0)\n",
        "network = Sequential([\n",
        "    Dense(16, activation='relu'),\n",
        "    Dense(10, activation='softmax')\n",
        "])\n",
        "network.compile(optimizer='adam',\n",
        "              loss='sparse_categorical_crossentropy',\n",
        "              metrics=['accuracy'])\n",
        "batch_size=1\n",
        "history = network.fit(X_train, y_train, \n",
        "                    epochs=num_epochs, \n",
        "                    batch_size = batch_size,\n",
        "                    verbose=2,\n",
        "                    use_multiprocessing=True,\n",
        "                    validation_data=(X_test, y_test)\n",
        "                    )\n",
        "\n"
      ],
      "execution_count": 32,
      "outputs": [
        {
          "output_type": "stream",
          "name": "stdout",
          "text": [
            "Epoch 1/50\n",
            "700/700 - 1s - loss: 2.0075 - accuracy: 0.3029 - val_loss: 1.6009 - val_accuracy: 0.4200\n",
            "Epoch 2/50\n",
            "700/700 - 1s - loss: 1.3688 - accuracy: 0.5086 - val_loss: 1.3729 - val_accuracy: 0.5200\n",
            "Epoch 3/50\n",
            "700/700 - 1s - loss: 1.1472 - accuracy: 0.5900 - val_loss: 1.2371 - val_accuracy: 0.5400\n",
            "Epoch 4/50\n",
            "700/700 - 1s - loss: 1.0024 - accuracy: 0.6514 - val_loss: 1.1584 - val_accuracy: 0.5833\n",
            "Epoch 5/50\n",
            "700/700 - 1s - loss: 0.9062 - accuracy: 0.6771 - val_loss: 1.1337 - val_accuracy: 0.6033\n",
            "Epoch 6/50\n",
            "700/700 - 1s - loss: 0.8214 - accuracy: 0.7171 - val_loss: 1.0994 - val_accuracy: 0.6333\n",
            "Epoch 7/50\n",
            "700/700 - 1s - loss: 0.7548 - accuracy: 0.7300 - val_loss: 1.0969 - val_accuracy: 0.6500\n",
            "Epoch 8/50\n",
            "700/700 - 1s - loss: 0.6992 - accuracy: 0.7543 - val_loss: 1.0758 - val_accuracy: 0.6433\n",
            "Epoch 9/50\n",
            "700/700 - 1s - loss: 0.6543 - accuracy: 0.7757 - val_loss: 1.0702 - val_accuracy: 0.6400\n",
            "Epoch 10/50\n",
            "700/700 - 1s - loss: 0.6131 - accuracy: 0.7943 - val_loss: 1.0771 - val_accuracy: 0.6367\n",
            "Epoch 11/50\n",
            "700/700 - 1s - loss: 0.5772 - accuracy: 0.8043 - val_loss: 1.0600 - val_accuracy: 0.6467\n",
            "Epoch 12/50\n",
            "700/700 - 1s - loss: 0.5482 - accuracy: 0.8143 - val_loss: 1.0769 - val_accuracy: 0.6500\n",
            "Epoch 13/50\n",
            "700/700 - 1s - loss: 0.5244 - accuracy: 0.8343 - val_loss: 1.0984 - val_accuracy: 0.6500\n",
            "Epoch 14/50\n",
            "700/700 - 1s - loss: 0.4985 - accuracy: 0.8400 - val_loss: 1.0803 - val_accuracy: 0.6600\n",
            "Epoch 15/50\n",
            "700/700 - 1s - loss: 0.4732 - accuracy: 0.8571 - val_loss: 1.0942 - val_accuracy: 0.6433\n",
            "Epoch 16/50\n",
            "700/700 - 1s - loss: 0.4527 - accuracy: 0.8586 - val_loss: 1.1207 - val_accuracy: 0.6600\n",
            "Epoch 17/50\n",
            "700/700 - 1s - loss: 0.4374 - accuracy: 0.8600 - val_loss: 1.1200 - val_accuracy: 0.6600\n",
            "Epoch 18/50\n",
            "700/700 - 1s - loss: 0.4096 - accuracy: 0.8700 - val_loss: 1.1584 - val_accuracy: 0.6667\n",
            "Epoch 19/50\n",
            "700/700 - 1s - loss: 0.3941 - accuracy: 0.8771 - val_loss: 1.1430 - val_accuracy: 0.6800\n",
            "Epoch 20/50\n",
            "700/700 - 1s - loss: 0.3807 - accuracy: 0.8843 - val_loss: 1.1727 - val_accuracy: 0.6700\n",
            "Epoch 21/50\n",
            "700/700 - 1s - loss: 0.3657 - accuracy: 0.8929 - val_loss: 1.1769 - val_accuracy: 0.6633\n",
            "Epoch 22/50\n",
            "700/700 - 1s - loss: 0.3497 - accuracy: 0.8986 - val_loss: 1.2034 - val_accuracy: 0.6633\n",
            "Epoch 23/50\n",
            "700/700 - 1s - loss: 0.3391 - accuracy: 0.8957 - val_loss: 1.1938 - val_accuracy: 0.6767\n",
            "Epoch 24/50\n",
            "700/700 - 1s - loss: 0.3188 - accuracy: 0.9100 - val_loss: 1.2178 - val_accuracy: 0.6800\n",
            "Epoch 25/50\n",
            "700/700 - 1s - loss: 0.3117 - accuracy: 0.9114 - val_loss: 1.2283 - val_accuracy: 0.6933\n",
            "Epoch 26/50\n",
            "700/700 - 1s - loss: 0.2953 - accuracy: 0.9143 - val_loss: 1.2472 - val_accuracy: 0.6567\n",
            "Epoch 27/50\n",
            "700/700 - 1s - loss: 0.2875 - accuracy: 0.9229 - val_loss: 1.2919 - val_accuracy: 0.6733\n",
            "Epoch 28/50\n",
            "700/700 - 1s - loss: 0.2754 - accuracy: 0.9143 - val_loss: 1.2938 - val_accuracy: 0.6633\n",
            "Epoch 29/50\n",
            "700/700 - 1s - loss: 0.2691 - accuracy: 0.9257 - val_loss: 1.3078 - val_accuracy: 0.6667\n",
            "Epoch 30/50\n",
            "700/700 - 1s - loss: 0.2513 - accuracy: 0.9229 - val_loss: 1.3570 - val_accuracy: 0.6700\n",
            "Epoch 31/50\n",
            "700/700 - 1s - loss: 0.2399 - accuracy: 0.9386 - val_loss: 1.3617 - val_accuracy: 0.6767\n",
            "Epoch 32/50\n",
            "700/700 - 1s - loss: 0.2354 - accuracy: 0.9314 - val_loss: 1.3719 - val_accuracy: 0.6967\n",
            "Epoch 33/50\n",
            "700/700 - 1s - loss: 0.2217 - accuracy: 0.9500 - val_loss: 1.4134 - val_accuracy: 0.6933\n",
            "Epoch 34/50\n",
            "700/700 - 1s - loss: 0.2169 - accuracy: 0.9386 - val_loss: 1.4627 - val_accuracy: 0.6700\n",
            "Epoch 35/50\n",
            "700/700 - 1s - loss: 0.2075 - accuracy: 0.9429 - val_loss: 1.4757 - val_accuracy: 0.6700\n",
            "Epoch 36/50\n",
            "700/700 - 1s - loss: 0.1969 - accuracy: 0.9571 - val_loss: 1.4673 - val_accuracy: 0.6800\n",
            "Epoch 37/50\n",
            "700/700 - 1s - loss: 0.1891 - accuracy: 0.9486 - val_loss: 1.4999 - val_accuracy: 0.6767\n",
            "Epoch 38/50\n",
            "700/700 - 1s - loss: 0.1837 - accuracy: 0.9557 - val_loss: 1.5166 - val_accuracy: 0.6900\n",
            "Epoch 39/50\n",
            "700/700 - 1s - loss: 0.1729 - accuracy: 0.9543 - val_loss: 1.5329 - val_accuracy: 0.6933\n",
            "Epoch 40/50\n",
            "700/700 - 1s - loss: 0.1695 - accuracy: 0.9614 - val_loss: 1.5552 - val_accuracy: 0.6700\n",
            "Epoch 41/50\n",
            "700/700 - 1s - loss: 0.1581 - accuracy: 0.9686 - val_loss: 1.5966 - val_accuracy: 0.6867\n",
            "Epoch 42/50\n",
            "700/700 - 1s - loss: 0.1545 - accuracy: 0.9600 - val_loss: 1.5879 - val_accuracy: 0.6800\n",
            "Epoch 43/50\n",
            "700/700 - 1s - loss: 0.1469 - accuracy: 0.9700 - val_loss: 1.6509 - val_accuracy: 0.6900\n",
            "Epoch 44/50\n",
            "700/700 - 1s - loss: 0.1444 - accuracy: 0.9729 - val_loss: 1.6697 - val_accuracy: 0.6733\n",
            "Epoch 45/50\n",
            "700/700 - 1s - loss: 0.1323 - accuracy: 0.9743 - val_loss: 1.6946 - val_accuracy: 0.6733\n",
            "Epoch 46/50\n",
            "700/700 - 1s - loss: 0.1306 - accuracy: 0.9757 - val_loss: 1.6900 - val_accuracy: 0.6800\n",
            "Epoch 47/50\n",
            "700/700 - 1s - loss: 0.1232 - accuracy: 0.9814 - val_loss: 1.7324 - val_accuracy: 0.6900\n",
            "Epoch 48/50\n",
            "700/700 - 1s - loss: 0.1176 - accuracy: 0.9771 - val_loss: 1.7861 - val_accuracy: 0.6700\n",
            "Epoch 49/50\n",
            "700/700 - 1s - loss: 0.1136 - accuracy: 0.9871 - val_loss: 1.7729 - val_accuracy: 0.6833\n",
            "Epoch 50/50\n",
            "700/700 - 1s - loss: 0.1104 - accuracy: 0.9814 - val_loss: 1.8104 - val_accuracy: 0.6800\n"
          ]
        }
      ]
    },
    {
      "cell_type": "code",
      "metadata": {
        "id": "T2KH6S1tapar",
        "colab": {
          "base_uri": "https://localhost:8080/",
          "height": 312
        },
        "outputId": "1b28b6b6-23f5-4600-c9c1-da00cbd78dce"
      },
      "source": [
        "plt.figure(1)\n",
        "plt.plot(history.history['accuracy'])\n",
        "plt.plot(history.history['val_accuracy'])\n",
        "plt.title('Model Accuracy')\n",
        "plt.ylabel('Accuracy')\n",
        "plt.xlabel('Epoch')\n",
        "plt.xticks([5, 10, 15, 20, 25, 30, 35, 40, 45, 50])\n",
        "plt.legend(['Train', 'Test'], loc='upper left')"
      ],
      "execution_count": 33,
      "outputs": [
        {
          "output_type": "execute_result",
          "data": {
            "text/plain": [
              "<matplotlib.legend.Legend at 0x7fb1bc6bb550>"
            ]
          },
          "metadata": {},
          "execution_count": 33
        },
        {
          "output_type": "display_data",
          "data": {
            "image/png": "[encoded data removed]",
            "text/plain": [
              "<Figure size 432x288 with 1 Axes>"
            ]
          },
          "metadata": {
            "needs_background": "light"
          }
        }
      ]
    },
    {
      "cell_type": "code",
      "metadata": {
        "id": "asiprxLJatK4",
        "colab": {
          "base_uri": "https://localhost:8080/",
          "height": 312
        },
        "outputId": "f147c04c-969b-43bf-a5f3-83fa6dd679bf"
      },
      "source": [
        "plt.figure(2)\n",
        "plt.plot(history.history['loss'])\n",
        "plt.plot(history.history['val_loss'])\n",
        "plt.title('model loss')\n",
        "plt.ylabel('cross-entropy')\n",
        "plt.xlabel('epoch')\n",
        "plt.xticks([5, 10, 15, 20, 25, 30, 35, 40, 45, 50])\n",
        "plt.legend(['train', 'test'], loc='upper left')"
      ],
      "execution_count": 34,
      "outputs": [
        {
          "output_type": "execute_result",
          "data": {
            "text/plain": [
              "<matplotlib.legend.Legend at 0x7fb1c2b32090>"
            ]
          },
          "metadata": {},
          "execution_count": 34
        },
        {
          "output_type": "display_data",
          "data": {
            "image/png": "[encoded data removed]",
            "text/plain": [
              "<Figure size 432x288 with 1 Axes>"
            ]
          },
          "metadata": {
            "needs_background": "light"
          }
        }
      ]
    },
    {
      "cell_type": "markdown",
      "metadata": {
        "id": "HrtjzCdH8S2F"
      },
      "source": [
        "### b)\n",
        "Explain the effect of removing dropouts. "
      ]
    },
    {
      "cell_type": "markdown",
      "metadata": {
        "id": "jqa6ViMMOvo-"
      },
      "source": [
        "On removing dropouts, the model starts relying heavily on certain inputs and becomes more catered to fitting the training data. The performance on the test data is very poor as a result as seen from the graphs where there is a stark difference between the train and test plots.\n",
        "This is due to the fact that neurons are no longer being randomly dropped. When this was being done, it was equivalent to training different neural networks. So, it was similar to averaging the effects of a large number of different networks. These would overfit in different ways and the net effect would reduce overfitting. The network would be forced to rely on all features rather than certain ones."
      ]
    },
    {
      "cell_type": "markdown",
      "metadata": {
        "id": "AUJ1o0lM8aT7"
      },
      "source": [
        "### c)\n",
        "What is another approach that you could take to address overfitting in the\n",
        "model?"
      ]
    },
    {
      "cell_type": "markdown",
      "metadata": {
        "id": "OnpAIIOCLpQQ"
      },
      "source": [
        "There are multiple ways to handle overfitting apart from using dropouts:\n",
        "\n",
        "*   Making the model less complex is an option. Reducing the number of neurons or the number of layers (not applicable here as there is only one hidden layer) can help handle overfitting.\n",
        "*   Regularization of weights can also help handle overfitting. In this method, a cost function is added for large weights. This way, it lets the model be more generalized.\n",
        "\n"
      ]
    },
    {
      "cell_type": "markdown",
      "metadata": {
        "id": "x_RxtwQ607p9"
      },
      "source": [
        "## Conclusion"
      ]
    },
    {
      "cell_type": "markdown",
      "metadata": {
        "id": "nTaIBQTi0-kw"
      },
      "source": [
        "There are several points to note from the observations.\n",
        "\n",
        "From Question 1, we can note that based on the graphs, the loss is higher in test data than training data. Also, the accuracy is higher for training data.\n",
        "\n",
        "From Question 2, we found the optimal batch size for the given model is 8. The median time taken to train an epoch decreases with increase in batch size. The time falls much faster at first and then gradually becomes lesser with increase in batch size.\n",
        "\n",
        "From Question 3, it was found that the optimal number of neurons for the given model is 32 as a tradeoff for complexity. It was also observed that 64 neurons provided the best accuracy otherwise.\n",
        "\n",
        "From Question 4, we observed that the 3-layer network has a higher mean accuracy and lower mean loss on test data as compared to the hypertuned 2-layer network.\n",
        "\n",
        "From Question 5, the effect of removing dropouts were observed. It was noticed that the training data performance improved but the test data performance was very poor.\n",
        "\n",
        "Among the tuned parameters, we can observe that number of neurons in the 2-layer network plays a larger role. For batch sizes 1,4, and 8 we see that after 50 epochs, the accuracies are nearly similar. The other batch sizes are not too far off either. However, for the number of neurons, we see a larger difference in accuracy between different values. There is a substantial difference in accuracy at 50 epochs between 8 neurons and 64 neurons. To avoid overfitting, 32 neurons was chosen as the optimal number of neurons. However, it should be noted that there is a much bigger gap between these values than batch size of 1 and 8. This could be due to the fact that\n",
        "\n",
        "Apart from using this method, the genres can be classified using CNNs. The waveforms can be converted to spectograms. As they somewhat resemble images, CNNs are useful to classify into different genres.\n",
        "\n",
        "In fact, this particular method of modelling waveforms can be applied to other aspects as well. For example, recognizing animals from their noises or a substance from its noise on falling.\n",
        "\n",
        "\n"
      ]
    },
    {
      "cell_type": "markdown",
      "metadata": {
        "id": "w78-8MJZ0I4p"
      },
      "source": [
        "# Part B"
      ]
    },
    {
      "cell_type": "code",
      "metadata": {
        "id": "-VacDzrT5mo5"
      },
      "source": [
        "# Setting the seed here is sufficient. \n",
        "# If you don't plan to use these starter code, make sure you add this cell.\n",
        "\n",
        "SEED = 42\n",
        "\n",
        "import os\n",
        "os.environ['TF_CUDNN_DETERMINISTIC'] = '1'\n",
        "\n",
        "import random \n",
        "random.seed(SEED)\n",
        "\n",
        "import numpy as np\n",
        "np.random.seed(SEED)\n",
        "\n",
        "import tensorflow as tf\n",
        "tf.random.set_seed(SEED)"
      ],
      "execution_count": 1,
      "outputs": []
    },
    {
      "cell_type": "code",
      "metadata": {
        "id": "NujeG24-5R6c"
      },
      "source": [
        "from keras import backend\n",
        "from tensorflow import keras\n",
        "from tensorflow.keras import layers\n",
        "# from tensorflow.keras.layers import ...\n",
        "\n",
        "from tensorflow.keras.layers import Normalization, StringLookup, IntegerLookup"
      ],
      "execution_count": 2,
      "outputs": []
    },
    {
      "cell_type": "code",
      "metadata": {
        "id": "5cn1IOWBmgB0",
        "colab": {
          "base_uri": "https://localhost:8080/",
          "height": 391
        },
        "outputId": "102a885a-33b3-452c-8491-971208b7203b"
      },
      "source": [
        "import pandas as pd\n",
        "import math\n",
        "df = pd.read_csv('hdb_price_prediction.csv')\n",
        "df.head()"
      ],
      "execution_count": 3,
      "outputs": [
        {
          "output_type": "execute_result",
          "data": {
            "text/html": [
              "<div>\n",
              "<style scoped>\n",
              "    .dataframe tbody tr th:only-of-type {\n",
              "        vertical-align: middle;\n",
              "    }\n",
              "\n",
              "    .dataframe tbody tr th {\n",
              "        vertical-align: top;\n",
              "    }\n",
              "\n",
              "    .dataframe thead th {\n",
              "        text-align: right;\n",
              "    }\n",
              "</style>\n",
              "<table border=\"1\" class=\"dataframe\">\n",
              "  <thead>\n",
              "    <tr style=\"text-align: right;\">\n",
              "      <th></th>\n",
              "      <th>month</th>\n",
              "      <th>year</th>\n",
              "      <th>full_address</th>\n",
              "      <th>nearest_stn</th>\n",
              "      <th>dist_to_nearest_stn</th>\n",
              "      <th>dist_to_dhoby</th>\n",
              "      <th>degree_centrality</th>\n",
              "      <th>eigenvector_centrality</th>\n",
              "      <th>flat_model_type</th>\n",
              "      <th>remaining_lease_years</th>\n",
              "      <th>floor_area_sqm</th>\n",
              "      <th>storey_range</th>\n",
              "      <th>resale_price</th>\n",
              "    </tr>\n",
              "  </thead>\n",
              "  <tbody>\n",
              "    <tr>\n",
              "      <th>0</th>\n",
              "      <td>1</td>\n",
              "      <td>2017</td>\n",
              "      <td>406 ANG MO KIO AVENUE 10</td>\n",
              "      <td>Ang Mo Kio</td>\n",
              "      <td>1.007264</td>\n",
              "      <td>7.006044</td>\n",
              "      <td>0.016807</td>\n",
              "      <td>0.006243</td>\n",
              "      <td>2 ROOM, Improved</td>\n",
              "      <td>61.333333</td>\n",
              "      <td>44.0</td>\n",
              "      <td>10 TO 12</td>\n",
              "      <td>232000.0</td>\n",
              "    </tr>\n",
              "    <tr>\n",
              "      <th>1</th>\n",
              "      <td>1</td>\n",
              "      <td>2017</td>\n",
              "      <td>108 ANG MO KIO AVENUE 4</td>\n",
              "      <td>Ang Mo Kio</td>\n",
              "      <td>1.271389</td>\n",
              "      <td>7.983837</td>\n",
              "      <td>0.016807</td>\n",
              "      <td>0.006243</td>\n",
              "      <td>3 ROOM, New Generation</td>\n",
              "      <td>60.583333</td>\n",
              "      <td>67.0</td>\n",
              "      <td>01 TO 03</td>\n",
              "      <td>250000.0</td>\n",
              "    </tr>\n",
              "    <tr>\n",
              "      <th>2</th>\n",
              "      <td>1</td>\n",
              "      <td>2017</td>\n",
              "      <td>602 ANG MO KIO AVENUE 5</td>\n",
              "      <td>Yio Chu Kang</td>\n",
              "      <td>1.069743</td>\n",
              "      <td>9.090700</td>\n",
              "      <td>0.016807</td>\n",
              "      <td>0.002459</td>\n",
              "      <td>3 ROOM, New Generation</td>\n",
              "      <td>62.416667</td>\n",
              "      <td>67.0</td>\n",
              "      <td>01 TO 03</td>\n",
              "      <td>262000.0</td>\n",
              "    </tr>\n",
              "    <tr>\n",
              "      <th>3</th>\n",
              "      <td>1</td>\n",
              "      <td>2017</td>\n",
              "      <td>465 ANG MO KIO AVENUE 10</td>\n",
              "      <td>Ang Mo Kio</td>\n",
              "      <td>0.946890</td>\n",
              "      <td>7.519889</td>\n",
              "      <td>0.016807</td>\n",
              "      <td>0.006243</td>\n",
              "      <td>3 ROOM, New Generation</td>\n",
              "      <td>62.083333</td>\n",
              "      <td>68.0</td>\n",
              "      <td>04 TO 06</td>\n",
              "      <td>265000.0</td>\n",
              "    </tr>\n",
              "    <tr>\n",
              "      <th>4</th>\n",
              "      <td>1</td>\n",
              "      <td>2017</td>\n",
              "      <td>601 ANG MO KIO AVENUE 5</td>\n",
              "      <td>Yio Chu Kang</td>\n",
              "      <td>1.092551</td>\n",
              "      <td>9.130489</td>\n",
              "      <td>0.016807</td>\n",
              "      <td>0.002459</td>\n",
              "      <td>3 ROOM, New Generation</td>\n",
              "      <td>62.416667</td>\n",
              "      <td>67.0</td>\n",
              "      <td>01 TO 03</td>\n",
              "      <td>265000.0</td>\n",
              "    </tr>\n",
              "  </tbody>\n",
              "</table>\n",
              "</div>"
            ],
            "text/plain": [
              "   month  year  ... storey_range resale_price\n",
              "0      1  2017  ...     10 TO 12     232000.0\n",
              "1      1  2017  ...     01 TO 03     250000.0\n",
              "2      1  2017  ...     01 TO 03     262000.0\n",
              "3      1  2017  ...     04 TO 06     265000.0\n",
              "4      1  2017  ...     01 TO 03     265000.0\n",
              "\n",
              "[5 rows x 13 columns]"
            ]
          },
          "metadata": {},
          "execution_count": 3
        }
      ]
    },
    {
      "cell_type": "code",
      "metadata": {
        "id": "dceWqrra5R4d"
      },
      "source": [
        "def dataframe_to_dataset(dataframe):\n",
        "    dataframe = dataframe.copy()\n",
        "    labels = dataframe.pop(\"resale_price\")\n",
        "    ds = tf.data.Dataset.from_tensor_slices((dict(dataframe), labels))\n",
        "    ds = ds.shuffle(buffer_size=len(dataframe))\n",
        "    return ds\n",
        "\n",
        "\n",
        "def encode_numerical_feature(feature, name, dataset):\n",
        "    # Create a Normalization layer for our feature\n",
        "    normalizer = Normalization()\n",
        "\n",
        "    # Prepare a Dataset that only yields our feature\n",
        "    feature_ds = dataset.map(lambda x, y: x[name])\n",
        "    feature_ds = feature_ds.map(lambda x: tf.expand_dims(x, -1))\n",
        "\n",
        "    # Learn the statistics of the data\n",
        "    normalizer.adapt(feature_ds)\n",
        "\n",
        "    # Normalize the input feature\n",
        "    encoded_feature = normalizer(feature)\n",
        "    return encoded_feature\n",
        "\n",
        "\n",
        "def encode_categorical_feature(feature, name, dataset, is_string):\n",
        "    lookup_class = StringLookup if is_string else IntegerLookup\n",
        "    # Create a lookup layer which will turn strings into integer indices\n",
        "    lookup = lookup_class(output_mode=\"binary\") # NOTE: as mentioned in the question paper, this actually does one-hot encoding. You could replace 'binary' with 'one_hot' if you wish to.\n",
        "\n",
        "    # Prepare a Dataset that only yields our feature\n",
        "    feature_ds = dataset.map(lambda x, y: x[name])\n",
        "    feature_ds = feature_ds.map(lambda x: tf.expand_dims(x, -1))\n",
        "\n",
        "    # Learn the set of possible string values and assign them a fixed integer index\n",
        "    lookup.adapt(feature_ds)\n",
        "\n",
        "    # Turn the string input into integer indices\n",
        "    encoded_feature = lookup(feature)\n",
        "    return encoded_feature\n"
      ],
      "execution_count": 4,
      "outputs": []
    },
    {
      "cell_type": "markdown",
      "metadata": {
        "id": "QJaeZvuJ0LWk"
      },
      "source": [
        "## Question 1"
      ]
    },
    {
      "cell_type": "markdown",
      "metadata": {
        "id": "355hD90B0nZs"
      },
      "source": [
        "### a)\n",
        "Divide the dataset (‘HDB_price_prediction.csv’) into train and test sets\n",
        "by using entries from year 2020 and before as training data (with the\n",
        "remaining data from year 2021 used as test data).\n",
        "Why is this done instead of random train/test splits? "
      ]
    },
    {
      "cell_type": "code",
      "metadata": {
        "id": "TavIPVRM5R2Y"
      },
      "source": [
        "#Split data\n",
        "train_dataframe = df[df['year'] <= 2020] # 0.8393471285568813\n",
        "val_dataframe = df[df['year'] > 2020]\n",
        "\n",
        "train_ds = dataframe_to_dataset(train_dataframe)\n",
        "val_ds = dataframe_to_dataset(val_dataframe)\n",
        "\n",
        "train_ds = train_ds.batch(128)\n",
        "val_ds = val_ds.batch(128)"
      ],
      "execution_count": 5,
      "outputs": []
    },
    {
      "cell_type": "markdown",
      "metadata": {
        "id": "-c5adPME0FcT"
      },
      "source": [
        "The newer the data, the more relevant it is. In order to ensure that the model works well, it needs to work with recent data. Thus, the latest year, 2021, should be used as test data."
      ]
    },
    {
      "cell_type": "markdown",
      "metadata": {
        "id": "OcKJeWc-0u9r"
      },
      "source": [
        "### b)\n",
        "Design a 2-layer feedforward neural network\n",
        "consisting of an input layer, a hidden layer (10 neurons, ReLU as activation\n",
        "function), and a linear output layer. One-hot encoding should be applied\n",
        "to categorical features and numeric features are standardised. After\n",
        "encoding / standardisation, the input features should be concatenated.\n",
        "The input layer should use these features:\n",
        "- **Numeric features**: dist_to_nearest_stn, dist_to_dhoby,\n",
        "degree_centrality, eigenvector_centrality, remaining_lease_years,\n",
        "floor_area_sqm\n",
        "- **Categorical features**: month, flat_model_type, storey_range "
      ]
    },
    {
      "cell_type": "code",
      "metadata": {
        "id": "Nl1KvuuXz7FM"
      },
      "source": [
        "# Categorical features encoded as integers\n",
        "month = keras.Input(shape=(1,), name=\"month\", dtype=\"int64\")\n",
        "month_encoded = encode_categorical_feature(month, \"month\", train_ds, False)\n",
        "\n",
        "# Categorical feature encoded as string\n",
        "flat_model_type = keras.Input(shape=(1,), name=\"flat_model_type\", dtype=\"string\")\n",
        "flat_model_type_encoded = encode_categorical_feature(flat_model_type, \"flat_model_type\", train_ds, True)\n",
        "storey_range = keras.Input(shape=(1,), name=\"storey_range\", dtype=\"string\")\n",
        "storey_range_encoded = encode_categorical_feature(storey_range, \"storey_range\", train_ds, True)\n",
        "\n",
        "\n",
        "# Numerical features\n",
        "floor_area_sqm = keras.Input(shape=(1,), name=\"floor_area_sqm\")\n",
        "floor_area_sqm_encoded = encode_numerical_feature(floor_area_sqm, \"floor_area_sqm\", train_ds)\n",
        "dist_to_nearest_stn = keras.Input(shape=(1,), name=\"dist_to_nearest_stn\")\n",
        "dist_to_nearest_stn_encoded = encode_numerical_feature(dist_to_nearest_stn, \"dist_to_nearest_stn\", train_ds)\n",
        "dist_to_dhoby = keras.Input(shape=(1,), name=\"dist_to_dhoby\")\n",
        "dist_to_dhoby_encoded = encode_numerical_feature(dist_to_dhoby, \"dist_to_dhoby\", train_ds)\n",
        "degree_centrality = keras.Input(shape=(1,), name=\"degree_centrality\")\n",
        "degree_centrality_encoded = encode_numerical_feature(degree_centrality, \"degree_centrality\", train_ds)\n",
        "eigenvector_centrality = keras.Input(shape=(1,), name=\"eigenvector_centrality\")\n",
        "eigenvector_centrality_encoded = encode_numerical_feature(eigenvector_centrality, \"eigenvector_centrality\", train_ds)\n",
        "remaining_lease_years = keras.Input(shape=(1,), name=\"remaining_lease_years\")\n",
        "remaining_lease_years_encoded = encode_numerical_feature(remaining_lease_years, \"remaining_lease_years\", train_ds)\n",
        "\n",
        "all_features = layers.concatenate(\n",
        "    [\n",
        "        month_encoded,\n",
        "        storey_range_encoded,\n",
        "        flat_model_type_encoded,\n",
        "        floor_area_sqm_encoded,\n",
        "        remaining_lease_years_encoded,\n",
        "        degree_centrality_encoded,\n",
        "        eigenvector_centrality_encoded,\n",
        "        dist_to_nearest_stn_encoded,\n",
        "        dist_to_dhoby_encoded\n",
        "    ]\n",
        ")\n"
      ],
      "execution_count": 6,
      "outputs": []
    },
    {
      "cell_type": "code",
      "metadata": {
        "id": "veo1FK4Ez7FN"
      },
      "source": [
        "all_inputs =[month,\n",
        "        storey_range,\n",
        "        flat_model_type,\n",
        "        floor_area_sqm,\n",
        "        remaining_lease_years,\n",
        "        degree_centrality,\n",
        "        eigenvector_centrality,\n",
        "        dist_to_nearest_stn,\n",
        "        dist_to_dhoby]\n",
        "# feedforward network with one hidden layer\n",
        "x = layers.Dense(10, activation=\"relu\")(all_features)\n",
        "output = layers.Dense(1, activation=\"linear\")(x)\n",
        "model = keras.Model(all_inputs, output)"
      ],
      "execution_count": 7,
      "outputs": []
    },
    {
      "cell_type": "markdown",
      "metadata": {
        "id": "DNFlbkLQ0vDy"
      },
      "source": [
        "### c)\n",
        "On the training data, train the model for 100 epochs using mini-batch\n",
        "gradient descent with batch size = 128, Use ‘adam’ optimiser with a\n",
        "learning rate of 𝛼 = 0.05 and mean square error as cost function. "
      ]
    },
    {
      "cell_type": "code",
      "metadata": {
        "id": "y788S72-C5Wi"
      },
      "source": [
        "# metric for R2 value\n",
        "def r_squared(y_true, y_pred):\n",
        "  numerator=backend.sum(backend.square(y_true-y_pred))\n",
        "  denominator=backend.sum(backend.square(y_true-backend.mean(y_true)))\n",
        "  return 1-numerator/denominator"
      ],
      "execution_count": 8,
      "outputs": []
    },
    {
      "cell_type": "code",
      "metadata": {
        "id": "wzrhYH4cJjsT"
      },
      "source": [
        "# metric for RMSE value\n",
        "def rmse(y_true, y_pred):\n",
        "  return backend.sqrt(backend.mean(backend.square(y_pred - y_true), axis=-1))\n",
        " "
      ],
      "execution_count": 9,
      "outputs": []
    },
    {
      "cell_type": "code",
      "metadata": {
        "id": "vXJy0JBkFQwa"
      },
      "source": [
        "#Callback function needed for part f\n",
        "checkpoint_filepath = '/tmp/checkpoint'\n",
        "model_checkpoint_callback = tf.keras.callbacks.ModelCheckpoint(\n",
        "    filepath=checkpoint_filepath,\n",
        "    save_weights_only=True,\n",
        "    monitor='val_loss',\n",
        "    mode='min',\n",
        "    save_best_only=True)\n"
      ],
      "execution_count": 10,
      "outputs": []
    },
    {
      "cell_type": "code",
      "metadata": {
        "id": "VQba0kqQz7FO",
        "colab": {
          "base_uri": "https://localhost:8080/"
        },
        "outputId": "1a233d85-c222-43f6-cd14-7ca9aae6f3e4"
      },
      "source": [
        "num_epochs=100\n",
        "opt = keras.optimizers.Adam(learning_rate=0.05)\n",
        "model.compile(optimizer=opt, \n",
        "                  loss='mse',\n",
        "              metrics=[r_squared,rmse])\n",
        "history = model.fit(train_ds, \n",
        "                    epochs=num_epochs,  \n",
        "                    verbose = 2, \n",
        "                    batch_size=128,\n",
        "                    callbacks = [model_checkpoint_callback],\n",
        "                    validation_data=val_ds)"
      ],
      "execution_count": 11,
      "outputs": [
        {
          "output_type": "stream",
          "name": "stdout",
          "text": [
            "Epoch 1/100\n"
          ]
        },
        {
          "output_type": "stream",
          "name": "stderr",
          "text": [
            "/usr/local/lib/python3.7/dist-packages/keras/engine/functional.py:585: UserWarning: Input dict contained keys ['year', 'full_address', 'nearest_stn'] which did not match any model input. They will be ignored by the model.\n",
            "  [n for n in tensors.keys() if n not in ref_input_names])\n"
          ]
        },
        {
          "output_type": "stream",
          "name": "stdout",
          "text": [
            "683/683 - 4s - loss: 187177730048.0000 - r_squared: -7.0489e+00 - rmse: 406406.4375 - val_loss: 170675044352.0000 - val_r_squared: -5.6966e+00 - val_rmse: 391168.4688\n",
            "Epoch 2/100\n",
            "683/683 - 2s - loss: 67174182912.0000 - r_squared: -1.8796e+00 - rmse: 229878.0625 - val_loss: 39814365184.0000 - val_r_squared: -5.5034e-01 - val_rmse: 177102.5156\n",
            "Epoch 3/100\n",
            "683/683 - 3s - loss: 10811350016.0000 - r_squared: 0.5418 - rmse: 75812.8281 - val_loss: 11000289280.0000 - val_r_squared: 0.5751 - val_rmse: 77102.8672\n",
            "Epoch 4/100\n",
            "683/683 - 3s - loss: 5528955392.0000 - r_squared: 0.7649 - rmse: 54047.2891 - val_loss: 8578768384.0000 - val_r_squared: 0.6688 - val_rmse: 67311.1406\n",
            "Epoch 5/100\n",
            "683/683 - 2s - loss: 4995456512.0000 - r_squared: 0.7869 - rmse: 52212.9766 - val_loss: 7987132928.0000 - val_r_squared: 0.6909 - val_rmse: 65627.9688\n",
            "Epoch 6/100\n",
            "683/683 - 3s - loss: 4631280128.0000 - r_squared: 0.8023 - rmse: 50583.7031 - val_loss: 7682764800.0000 - val_r_squared: 0.7037 - val_rmse: 65113.9453\n",
            "Epoch 7/100\n",
            "683/683 - 3s - loss: 4366325248.0000 - r_squared: 0.8139 - rmse: 49296.0742 - val_loss: 7283901952.0000 - val_r_squared: 0.7173 - val_rmse: 63682.6445\n",
            "Epoch 8/100\n",
            "683/683 - 2s - loss: 4175738880.0000 - r_squared: 0.8214 - rmse: 48358.9141 - val_loss: 7108579328.0000 - val_r_squared: 0.7248 - val_rmse: 63423.3164\n",
            "Epoch 9/100\n",
            "683/683 - 3s - loss: 4041837568.0000 - r_squared: 0.8269 - rmse: 47669.1680 - val_loss: 6924159488.0000 - val_r_squared: 0.7317 - val_rmse: 62800.4375\n",
            "Epoch 10/100\n",
            "683/683 - 2s - loss: 3947457280.0000 - r_squared: 0.8311 - rmse: 47152.1602 - val_loss: 6620048384.0000 - val_r_squared: 0.7428 - val_rmse: 61448.2422\n",
            "Epoch 11/100\n",
            "683/683 - 3s - loss: 3881285120.0000 - r_squared: 0.8336 - rmse: 46800.3203 - val_loss: 6679777280.0000 - val_r_squared: 0.7396 - val_rmse: 62124.2812\n",
            "Epoch 12/100\n",
            "683/683 - 3s - loss: 3834183936.0000 - r_squared: 0.8357 - rmse: 46559.0312 - val_loss: 6554908672.0000 - val_r_squared: 0.7448 - val_rmse: 61577.4062\n",
            "Epoch 13/100\n",
            "683/683 - 2s - loss: 3798163200.0000 - r_squared: 0.8372 - rmse: 46369.4375 - val_loss: 6631705600.0000 - val_r_squared: 0.7426 - val_rmse: 62176.5391\n",
            "Epoch 14/100\n",
            "683/683 - 3s - loss: 3770876672.0000 - r_squared: 0.8382 - rmse: 46220.4805 - val_loss: 6543088128.0000 - val_r_squared: 0.7464 - val_rmse: 61658.9844\n",
            "Epoch 15/100\n",
            "683/683 - 3s - loss: 3748536832.0000 - r_squared: 0.8393 - rmse: 46111.2656 - val_loss: 6317844992.0000 - val_r_squared: 0.7541 - val_rmse: 60482.3711\n",
            "Epoch 16/100\n",
            "683/683 - 3s - loss: 3729396992.0000 - r_squared: 0.8401 - rmse: 46002.2266 - val_loss: 6149227520.0000 - val_r_squared: 0.7598 - val_rmse: 59486.1914\n",
            "Epoch 17/100\n",
            "683/683 - 2s - loss: 3714307072.0000 - r_squared: 0.8410 - rmse: 45945.2109 - val_loss: 6441013760.0000 - val_r_squared: 0.7486 - val_rmse: 61382.8477\n",
            "Epoch 18/100\n",
            "683/683 - 2s - loss: 3701043712.0000 - r_squared: 0.8411 - rmse: 45891.6055 - val_loss: 6357402112.0000 - val_r_squared: 0.7527 - val_rmse: 60794.5508\n",
            "Epoch 19/100\n",
            "683/683 - 3s - loss: 3689374464.0000 - r_squared: 0.8419 - rmse: 45800.5938 - val_loss: 6271182848.0000 - val_r_squared: 0.7563 - val_rmse: 60444.6562\n",
            "Epoch 20/100\n",
            "683/683 - 2s - loss: 3680475904.0000 - r_squared: 0.8419 - rmse: 45760.0938 - val_loss: 6253206528.0000 - val_r_squared: 0.7565 - val_rmse: 60430.9883\n",
            "Epoch 21/100\n",
            "683/683 - 2s - loss: 3673174272.0000 - r_squared: 0.8423 - rmse: 45719.5430 - val_loss: 6290972160.0000 - val_r_squared: 0.7555 - val_rmse: 60711.6875\n",
            "Epoch 22/100\n",
            "683/683 - 3s - loss: 3666185984.0000 - r_squared: 0.8423 - rmse: 45692.2227 - val_loss: 6092649984.0000 - val_r_squared: 0.7623 - val_rmse: 59752.5273\n",
            "Epoch 23/100\n",
            "683/683 - 3s - loss: 3659490816.0000 - r_squared: 0.8428 - rmse: 45658.0430 - val_loss: 6216457728.0000 - val_r_squared: 0.7580 - val_rmse: 60362.4531\n",
            "Epoch 24/100\n",
            "683/683 - 3s - loss: 3654529280.0000 - r_squared: 0.8430 - rmse: 45637.5859 - val_loss: 6020622848.0000 - val_r_squared: 0.7658 - val_rmse: 59126.8516\n",
            "Epoch 25/100\n",
            "683/683 - 2s - loss: 3650164992.0000 - r_squared: 0.8430 - rmse: 45623.4375 - val_loss: 6250859008.0000 - val_r_squared: 0.7566 - val_rmse: 60584.5820\n",
            "Epoch 26/100\n",
            "683/683 - 3s - loss: 3646313728.0000 - r_squared: 0.8434 - rmse: 45601.8750 - val_loss: 6163456512.0000 - val_r_squared: 0.7591 - val_rmse: 60142.0547\n",
            "Epoch 27/100\n",
            "683/683 - 3s - loss: 3641979904.0000 - r_squared: 0.8435 - rmse: 45579.3945 - val_loss: 6259223552.0000 - val_r_squared: 0.7554 - val_rmse: 60631.8789\n",
            "Epoch 28/100\n",
            "683/683 - 3s - loss: 3639052800.0000 - r_squared: 0.8437 - rmse: 45556.4570 - val_loss: 6084684288.0000 - val_r_squared: 0.7623 - val_rmse: 59609.7461\n",
            "Epoch 29/100\n",
            "683/683 - 3s - loss: 3636512512.0000 - r_squared: 0.8434 - rmse: 45552.8516 - val_loss: 6258029056.0000 - val_r_squared: 0.7561 - val_rmse: 60723.2773\n",
            "Epoch 30/100\n",
            "683/683 - 3s - loss: 3633477376.0000 - r_squared: 0.8442 - rmse: 45531.7695 - val_loss: 6217993216.0000 - val_r_squared: 0.7584 - val_rmse: 60427.5078\n",
            "Epoch 31/100\n",
            "683/683 - 2s - loss: 3630667008.0000 - r_squared: 0.8441 - rmse: 45528.8828 - val_loss: 6301376512.0000 - val_r_squared: 0.7552 - val_rmse: 60859.5820\n",
            "Epoch 32/100\n",
            "683/683 - 3s - loss: 3628947968.0000 - r_squared: 0.8443 - rmse: 45491.9492 - val_loss: 6119792640.0000 - val_r_squared: 0.7626 - val_rmse: 59926.4570\n",
            "Epoch 33/100\n",
            "683/683 - 3s - loss: 3626445312.0000 - r_squared: 0.8442 - rmse: 45492.4297 - val_loss: 6153803264.0000 - val_r_squared: 0.7599 - val_rmse: 60158.1172\n",
            "Epoch 34/100\n",
            "683/683 - 3s - loss: 3624612608.0000 - r_squared: 0.8444 - rmse: 45493.6250 - val_loss: 6127508992.0000 - val_r_squared: 0.7610 - val_rmse: 60068.5352\n",
            "Epoch 35/100\n",
            "683/683 - 3s - loss: 3622195456.0000 - r_squared: 0.8444 - rmse: 45492.3125 - val_loss: 6266130432.0000 - val_r_squared: 0.7563 - val_rmse: 60839.5742\n",
            "Epoch 36/100\n",
            "683/683 - 3s - loss: 3620007424.0000 - r_squared: 0.8440 - rmse: 45461.0938 - val_loss: 6131789824.0000 - val_r_squared: 0.7599 - val_rmse: 60023.0977\n",
            "Epoch 37/100\n",
            "683/683 - 3s - loss: 3617305600.0000 - r_squared: 0.8445 - rmse: 45449.3945 - val_loss: 5952864768.0000 - val_r_squared: 0.7685 - val_rmse: 58931.8672\n",
            "Epoch 38/100\n",
            "683/683 - 3s - loss: 3612417536.0000 - r_squared: 0.8450 - rmse: 45453.9062 - val_loss: 6110869504.0000 - val_r_squared: 0.7617 - val_rmse: 59936.2539\n",
            "Epoch 39/100\n",
            "683/683 - 2s - loss: 3601113856.0000 - r_squared: 0.8449 - rmse: 45389.0234 - val_loss: 6058117632.0000 - val_r_squared: 0.7630 - val_rmse: 59662.9805\n",
            "Epoch 40/100\n",
            "683/683 - 3s - loss: 3576915712.0000 - r_squared: 0.8461 - rmse: 45237.3320 - val_loss: 5984673792.0000 - val_r_squared: 0.7669 - val_rmse: 59505.0391\n",
            "Epoch 41/100\n",
            "683/683 - 3s - loss: 3526163712.0000 - r_squared: 0.8485 - rmse: 44952.9375 - val_loss: 6024179200.0000 - val_r_squared: 0.7643 - val_rmse: 59881.3008\n",
            "Epoch 42/100\n",
            "683/683 - 3s - loss: 3441838080.0000 - r_squared: 0.8521 - rmse: 44286.2656 - val_loss: 6002799616.0000 - val_r_squared: 0.7655 - val_rmse: 59904.9414\n",
            "Epoch 43/100\n",
            "683/683 - 3s - loss: 3335182592.0000 - r_squared: 0.8567 - rmse: 43392.8555 - val_loss: 5848651264.0000 - val_r_squared: 0.7716 - val_rmse: 59270.9102\n",
            "Epoch 44/100\n",
            "683/683 - 3s - loss: 3219386368.0000 - r_squared: 0.8616 - rmse: 42383.8828 - val_loss: 5683044864.0000 - val_r_squared: 0.7783 - val_rmse: 58495.5195\n",
            "Epoch 45/100\n",
            "683/683 - 3s - loss: 3111391232.0000 - r_squared: 0.8663 - rmse: 41455.0273 - val_loss: 5504764416.0000 - val_r_squared: 0.7852 - val_rmse: 57614.2695\n",
            "Epoch 46/100\n",
            "683/683 - 2s - loss: 3022422272.0000 - r_squared: 0.8702 - rmse: 40677.5156 - val_loss: 5513496064.0000 - val_r_squared: 0.7857 - val_rmse: 57553.0117\n",
            "Epoch 47/100\n",
            "683/683 - 3s - loss: 2952669952.0000 - r_squared: 0.8731 - rmse: 40053.6602 - val_loss: 5478119936.0000 - val_r_squared: 0.7859 - val_rmse: 57724.5664\n",
            "Epoch 48/100\n",
            "683/683 - 3s - loss: 2899637760.0000 - r_squared: 0.8751 - rmse: 39588.3164 - val_loss: 5393486848.0000 - val_r_squared: 0.7885 - val_rmse: 57165.3164\n",
            "Epoch 49/100\n",
            "683/683 - 2s - loss: 2860638464.0000 - r_squared: 0.8770 - rmse: 39257.3477 - val_loss: 5338334720.0000 - val_r_squared: 0.7919 - val_rmse: 56903.0000\n",
            "Epoch 50/100\n",
            "683/683 - 2s - loss: 2834109440.0000 - r_squared: 0.8781 - rmse: 39032.8086 - val_loss: 5276128256.0000 - val_r_squared: 0.7926 - val_rmse: 56650.2109\n",
            "Epoch 51/100\n",
            "683/683 - 2s - loss: 2815419904.0000 - r_squared: 0.8788 - rmse: 38872.0039 - val_loss: 5296099840.0000 - val_r_squared: 0.7931 - val_rmse: 56703.2344\n",
            "Epoch 52/100\n",
            "683/683 - 3s - loss: 2799145472.0000 - r_squared: 0.8793 - rmse: 38729.6562 - val_loss: 5096646144.0000 - val_r_squared: 0.8015 - val_rmse: 55446.1484\n",
            "Epoch 53/100\n",
            "683/683 - 2s - loss: 2786247936.0000 - r_squared: 0.8801 - rmse: 38650.7266 - val_loss: 5337115136.0000 - val_r_squared: 0.7912 - val_rmse: 57104.7109\n",
            "Epoch 54/100\n",
            "683/683 - 2s - loss: 2775014912.0000 - r_squared: 0.8805 - rmse: 38554.2852 - val_loss: 5356177920.0000 - val_r_squared: 0.7901 - val_rmse: 57240.1836\n",
            "Epoch 55/100\n",
            "683/683 - 3s - loss: 2765482240.0000 - r_squared: 0.8806 - rmse: 38485.1211 - val_loss: 5055222272.0000 - val_r_squared: 0.8022 - val_rmse: 55277.8672\n",
            "Epoch 56/100\n",
            "683/683 - 3s - loss: 2757765888.0000 - r_squared: 0.8813 - rmse: 38488.8750 - val_loss: 5176614400.0000 - val_r_squared: 0.7976 - val_rmse: 55908.2422\n",
            "Epoch 57/100\n",
            "683/683 - 3s - loss: 2752036352.0000 - r_squared: 0.8816 - rmse: 38424.7930 - val_loss: 5249175040.0000 - val_r_squared: 0.7944 - val_rmse: 56631.4531\n",
            "Epoch 58/100\n",
            "683/683 - 2s - loss: 2746007808.0000 - r_squared: 0.8817 - rmse: 38390.1211 - val_loss: 5226884608.0000 - val_r_squared: 0.7954 - val_rmse: 56476.7930\n",
            "Epoch 59/100\n",
            "683/683 - 3s - loss: 2741517312.0000 - r_squared: 0.8821 - rmse: 38375.9766 - val_loss: 5128645120.0000 - val_r_squared: 0.7999 - val_rmse: 55862.9492\n",
            "Epoch 60/100\n",
            "683/683 - 3s - loss: 2736957696.0000 - r_squared: 0.8822 - rmse: 38355.1172 - val_loss: 5302356992.0000 - val_r_squared: 0.7934 - val_rmse: 56781.0156\n",
            "Epoch 61/100\n",
            "683/683 - 4s - loss: 2733793024.0000 - r_squared: 0.8823 - rmse: 38333.1289 - val_loss: 5149142528.0000 - val_r_squared: 0.7985 - val_rmse: 55902.2188\n",
            "Epoch 62/100\n",
            "683/683 - 3s - loss: 2730204672.0000 - r_squared: 0.8822 - rmse: 38315.7734 - val_loss: 5323570176.0000 - val_r_squared: 0.7922 - val_rmse: 57225.0391\n",
            "Epoch 63/100\n",
            "683/683 - 3s - loss: 2726487808.0000 - r_squared: 0.8824 - rmse: 38295.3320 - val_loss: 5180361216.0000 - val_r_squared: 0.7967 - val_rmse: 56234.4258\n",
            "Epoch 64/100\n",
            "683/683 - 3s - loss: 2724560896.0000 - r_squared: 0.8824 - rmse: 38271.1250 - val_loss: 5006243328.0000 - val_r_squared: 0.8047 - val_rmse: 55068.2109\n",
            "Epoch 65/100\n",
            "683/683 - 3s - loss: 2721166848.0000 - r_squared: 0.8827 - rmse: 38256.4727 - val_loss: 5216015360.0000 - val_r_squared: 0.7964 - val_rmse: 56552.9023\n",
            "Epoch 66/100\n",
            "683/683 - 2s - loss: 2718953472.0000 - r_squared: 0.8828 - rmse: 38232.5664 - val_loss: 5139961344.0000 - val_r_squared: 0.8001 - val_rmse: 55968.7344\n",
            "Epoch 67/100\n",
            "683/683 - 3s - loss: 2716608000.0000 - r_squared: 0.8830 - rmse: 38228.6758 - val_loss: 5131172352.0000 - val_r_squared: 0.7992 - val_rmse: 55976.7383\n",
            "Epoch 68/100\n",
            "683/683 - 3s - loss: 2714406400.0000 - r_squared: 0.8829 - rmse: 38213.8008 - val_loss: 5102109184.0000 - val_r_squared: 0.8001 - val_rmse: 55801.4805\n",
            "Epoch 69/100\n",
            "683/683 - 3s - loss: 2712512512.0000 - r_squared: 0.8831 - rmse: 38211.4453 - val_loss: 5140166656.0000 - val_r_squared: 0.7989 - val_rmse: 56076.4219\n",
            "Epoch 70/100\n",
            "683/683 - 3s - loss: 2709771264.0000 - r_squared: 0.8836 - rmse: 38170.7734 - val_loss: 4906419200.0000 - val_r_squared: 0.8074 - val_rmse: 54432.6875\n",
            "Epoch 71/100\n",
            "683/683 - 3s - loss: 2707761152.0000 - r_squared: 0.8835 - rmse: 38172.1719 - val_loss: 5151524864.0000 - val_r_squared: 0.7989 - val_rmse: 56140.5859\n",
            "Epoch 72/100\n",
            "683/683 - 3s - loss: 2705751296.0000 - r_squared: 0.8834 - rmse: 38152.5195 - val_loss: 5267151360.0000 - val_r_squared: 0.7955 - val_rmse: 56894.8594\n",
            "Epoch 73/100\n",
            "683/683 - 3s - loss: 2703717632.0000 - r_squared: 0.8830 - rmse: 38147.1953 - val_loss: 5245084160.0000 - val_r_squared: 0.7946 - val_rmse: 56750.9414\n",
            "Epoch 74/100\n",
            "683/683 - 3s - loss: 2701987328.0000 - r_squared: 0.8834 - rmse: 38108.2344 - val_loss: 5100466688.0000 - val_r_squared: 0.8009 - val_rmse: 55916.1367\n",
            "Epoch 75/100\n",
            "683/683 - 3s - loss: 2699383552.0000 - r_squared: 0.8842 - rmse: 38094.6016 - val_loss: 5023003648.0000 - val_r_squared: 0.8034 - val_rmse: 55302.7891\n",
            "Epoch 76/100\n",
            "683/683 - 3s - loss: 2697144576.0000 - r_squared: 0.8838 - rmse: 38072.1875 - val_loss: 5218759680.0000 - val_r_squared: 0.7956 - val_rmse: 56652.5039\n",
            "Epoch 77/100\n",
            "683/683 - 2s - loss: 2695197952.0000 - r_squared: 0.8837 - rmse: 38061.4922 - val_loss: 5296699392.0000 - val_r_squared: 0.7926 - val_rmse: 57148.0156\n",
            "Epoch 78/100\n",
            "683/683 - 3s - loss: 2693436928.0000 - r_squared: 0.8837 - rmse: 38034.6094 - val_loss: 5002567168.0000 - val_r_squared: 0.8034 - val_rmse: 55184.4531\n",
            "Epoch 79/100\n",
            "683/683 - 3s - loss: 2691712000.0000 - r_squared: 0.8842 - rmse: 38030.1992 - val_loss: 5220007936.0000 - val_r_squared: 0.7963 - val_rmse: 56696.0742\n",
            "Epoch 80/100\n",
            "683/683 - 3s - loss: 2689546752.0000 - r_squared: 0.8837 - rmse: 38001.8711 - val_loss: 5181383168.0000 - val_r_squared: 0.7975 - val_rmse: 56429.7930\n",
            "Epoch 81/100\n",
            "683/683 - 3s - loss: 2687323136.0000 - r_squared: 0.8844 - rmse: 37989.3633 - val_loss: 5209968128.0000 - val_r_squared: 0.7957 - val_rmse: 56526.1758\n",
            "Epoch 82/100\n",
            "683/683 - 3s - loss: 2685922304.0000 - r_squared: 0.8843 - rmse: 37961.1055 - val_loss: 5081809920.0000 - val_r_squared: 0.8010 - val_rmse: 55676.9336\n",
            "Epoch 83/100\n",
            "683/683 - 3s - loss: 2683870464.0000 - r_squared: 0.8843 - rmse: 37952.3906 - val_loss: 5154583552.0000 - val_r_squared: 0.7985 - val_rmse: 56183.1602\n",
            "Epoch 84/100\n",
            "683/683 - 3s - loss: 2682451712.0000 - r_squared: 0.8845 - rmse: 37917.6328 - val_loss: 5126509568.0000 - val_r_squared: 0.7994 - val_rmse: 55976.4219\n",
            "Epoch 85/100\n",
            "683/683 - 3s - loss: 2680747520.0000 - r_squared: 0.8842 - rmse: 37914.5781 - val_loss: 5221947392.0000 - val_r_squared: 0.7965 - val_rmse: 56777.8516\n",
            "Epoch 86/100\n",
            "683/683 - 3s - loss: 2678697728.0000 - r_squared: 0.8843 - rmse: 37877.4570 - val_loss: 5060617728.0000 - val_r_squared: 0.8020 - val_rmse: 55527.7344\n",
            "Epoch 87/100\n",
            "683/683 - 3s - loss: 2677299968.0000 - r_squared: 0.8846 - rmse: 37873.3711 - val_loss: 5069367296.0000 - val_r_squared: 0.8019 - val_rmse: 55674.5898\n",
            "Epoch 88/100\n",
            "683/683 - 2s - loss: 2675966976.0000 - r_squared: 0.8844 - rmse: 37848.4609 - val_loss: 5098999808.0000 - val_r_squared: 0.8002 - val_rmse: 55846.7422\n",
            "Epoch 89/100\n",
            "683/683 - 3s - loss: 2674727168.0000 - r_squared: 0.8847 - rmse: 37835.3047 - val_loss: 5223520768.0000 - val_r_squared: 0.7958 - val_rmse: 56733.7148\n",
            "Epoch 90/100\n",
            "683/683 - 3s - loss: 2672558592.0000 - r_squared: 0.8848 - rmse: 37799.3594 - val_loss: 5070351872.0000 - val_r_squared: 0.8012 - val_rmse: 55781.8047\n",
            "Epoch 91/100\n",
            "683/683 - 3s - loss: 2670921472.0000 - r_squared: 0.8849 - rmse: 37783.3906 - val_loss: 5170026496.0000 - val_r_squared: 0.7972 - val_rmse: 56344.8281\n",
            "Epoch 92/100\n",
            "683/683 - 3s - loss: 2669507840.0000 - r_squared: 0.8852 - rmse: 37770.4336 - val_loss: 5181879296.0000 - val_r_squared: 0.7963 - val_rmse: 56409.3125\n",
            "Epoch 93/100\n",
            "683/683 - 3s - loss: 2667732992.0000 - r_squared: 0.8851 - rmse: 37735.6133 - val_loss: 5097333760.0000 - val_r_squared: 0.8008 - val_rmse: 55893.5312\n",
            "Epoch 94/100\n",
            "683/683 - 3s - loss: 2666461952.0000 - r_squared: 0.8853 - rmse: 37727.4062 - val_loss: 5035090432.0000 - val_r_squared: 0.8029 - val_rmse: 55486.8594\n",
            "Epoch 95/100\n",
            "683/683 - 3s - loss: 2664181504.0000 - r_squared: 0.8852 - rmse: 37691.7773 - val_loss: 5120227840.0000 - val_r_squared: 0.7988 - val_rmse: 56037.2031\n",
            "Epoch 96/100\n",
            "683/683 - 3s - loss: 2662610176.0000 - r_squared: 0.8852 - rmse: 37679.3516 - val_loss: 5151973376.0000 - val_r_squared: 0.7984 - val_rmse: 56204.2266\n",
            "Epoch 97/100\n",
            "683/683 - 3s - loss: 2661393408.0000 - r_squared: 0.8852 - rmse: 37659.5195 - val_loss: 5162351104.0000 - val_r_squared: 0.7980 - val_rmse: 56393.4062\n",
            "Epoch 98/100\n",
            "683/683 - 3s - loss: 2659821056.0000 - r_squared: 0.8855 - rmse: 37641.0938 - val_loss: 5203960832.0000 - val_r_squared: 0.7959 - val_rmse: 56630.5664\n",
            "Epoch 99/100\n",
            "683/683 - 3s - loss: 2658120704.0000 - r_squared: 0.8854 - rmse: 37621.0352 - val_loss: 4961143808.0000 - val_r_squared: 0.8057 - val_rmse: 55037.0273\n",
            "Epoch 100/100\n",
            "683/683 - 3s - loss: 2657256704.0000 - r_squared: 0.8857 - rmse: 37610.9023 - val_loss: 5149017088.0000 - val_r_squared: 0.7989 - val_rmse: 56277.0508\n"
          ]
        }
      ]
    },
    {
      "cell_type": "markdown",
      "metadata": {
        "id": "OLB6dDhb0vG8"
      },
      "source": [
        "### d)\n",
        "Plot the train and test root mean square errors (RMSE) against epochs "
      ]
    },
    {
      "cell_type": "code",
      "metadata": {
        "id": "_znaO30EE55L",
        "colab": {
          "base_uri": "https://localhost:8080/",
          "height": 312
        },
        "outputId": "747cccbd-7ab3-4851-aa6b-93ef34b76ab2"
      },
      "source": [
        "import matplotlib.pyplot as plt\n",
        "plt.figure()\n",
        "x_data = range(101)\n",
        "plt.plot(x_data[5:],history.history['rmse'][4:])\n",
        "plt.plot(x_data[5:],history.history['val_rmse'][4:])\n",
        "\n",
        "plt.title('Model loss')\n",
        "plt.ylabel('Loss(RMSE)')\n",
        "\n",
        "plt.xlabel('Epoch')\n",
        "plt.legend(['Train', 'Test'], loc='upper left')"
      ],
      "execution_count": 12,
      "outputs": [
        {
          "output_type": "execute_result",
          "data": {
            "text/plain": [
              "<matplotlib.legend.Legend at 0x7f2684057b50>"
            ]
          },
          "metadata": {},
          "execution_count": 12
        },
        {
          "output_type": "display_data",
          "data": {
            "image/png": "[encoded data removed]",
            "text/plain": [
              "<Figure size 432x288 with 1 Axes>"
            ]
          },
          "metadata": {
            "needs_background": "light"
          }
        }
      ]
    },
    {
      "cell_type": "markdown",
      "metadata": {
        "id": "SVAyhgvy0vJg"
      },
      "source": [
        "### e) \n",
        "State the epoch with the lowest test error. State the test R2 value at\n",
        "that epoch."
      ]
    },
    {
      "cell_type": "markdown",
      "metadata": {
        "id": "J7lIP4mRRh7o"
      },
      "source": [
        "Epoch 70 has the lowest test error. The R2 value is 0.8073545098304749"
      ]
    },
    {
      "cell_type": "code",
      "metadata": {
        "colab": {
          "base_uri": "https://localhost:8080/"
        },
        "id": "o5mtXqdpRGPZ",
        "outputId": "bc5f4155-9316-4fe9-8479-889c143076e3"
      },
      "source": [
        "best_epoch=0\n",
        "for i in range(len(history.history['val_loss'])):\n",
        "  if (history.history['val_loss'][i]<history.history['val_loss'][best_epoch-1]):\n",
        "    best_epoch=i+1\n",
        "print(\"Best Epoch:\",best_epoch)\n",
        "print(\"R2 Value:\",history.history['val_r_squared'][best_epoch-1])"
      ],
      "execution_count": 13,
      "outputs": [
        {
          "output_type": "stream",
          "name": "stdout",
          "text": [
            "Best Epoch: 70\n",
            "R2 Value: 0.8073545098304749\n"
          ]
        }
      ]
    },
    {
      "cell_type": "markdown",
      "metadata": {
        "id": "qLLZCouN0vMA"
      },
      "source": [
        "### f)\n",
        "Using the model from that best epoch, plot the predicted values and\n",
        "target values for a batch of 128 test samples. (Hint: Use a callback to\n",
        "restore the best model weights. Find out how to retrieve a batch from\n",
        "tf.BatchDataset. A scatter plot will suffice.)"
      ]
    },
    {
      "cell_type": "code",
      "metadata": {
        "id": "vuWLra9qTCwG",
        "colab": {
          "base_uri": "https://localhost:8080/"
        },
        "outputId": "3a950256-1bab-4b20-a1fe-9323af0235c9"
      },
      "source": [
        "model.load_weights(checkpoint_filepath)\n",
        "sample = val_ds.take(1)\n",
        "predictions=model.predict(sample)"
      ],
      "execution_count": 14,
      "outputs": [
        {
          "output_type": "stream",
          "name": "stderr",
          "text": [
            "/usr/local/lib/python3.7/dist-packages/keras/engine/functional.py:585: UserWarning: Input dict contained keys ['year', 'full_address', 'nearest_stn'] which did not match any model input. They will be ignored by the model.\n",
            "  [n for n in tensors.keys() if n not in ref_input_names])\n"
          ]
        }
      ]
    },
    {
      "cell_type": "code",
      "metadata": {
        "colab": {
          "base_uri": "https://localhost:8080/",
          "height": 312
        },
        "id": "py04UoYD6z32",
        "outputId": "b3e857c7-ce3f-4890-ac64-769a5c30729d"
      },
      "source": [
        "targets=[]\n",
        "for data,labels in sample:\n",
        "  label=labels.numpy()\n",
        "  targets.append(label)\n",
        " \n",
        "x=range(1,129)\n",
        "y=predictions.ravel()\n",
        "y2=targets\n",
        "plt.figure()\n",
        "plt.scatter(x,y)\n",
        "plt.scatter(x,y2)\n",
        "plt.legend(['Predicted', 'Actual'], loc='upper left')\n",
        "plt.title('Actual vs. Predicted Resale Price')\n",
        "plt.ylabel('Resale Prices')\n",
        "plt.xlabel('Test Samples')"
      ],
      "execution_count": 15,
      "outputs": [
        {
          "output_type": "execute_result",
          "data": {
            "text/plain": [
              "Text(0.5, 0, 'Test Samples')"
            ]
          },
          "metadata": {},
          "execution_count": 15
        },
        {
          "output_type": "display_data",
          "data": {
            "image/png": "[encoded data removed]",
            "text/plain": [
              "<Figure size 432x288 with 1 Axes>"
            ]
          },
          "metadata": {
            "needs_background": "light"
          }
        }
      ]
    },
    {
      "cell_type": "markdown",
      "metadata": {
        "id": "qaYOH-co08ik"
      },
      "source": [
        "## Question 2"
      ]
    },
    {
      "cell_type": "markdown",
      "metadata": {
        "id": "AHtfWfOv1AK-"
      },
      "source": [
        "Instead of using one-hot encoding, an alternative approach entails the use of embeddings\n",
        "to encode categorical variables. Such an approach utilises the ability of neural networks to\n",
        "learn richer representations3 of the data – an edge it has over traditional ML models.\n"
      ]
    },
    {
      "cell_type": "markdown",
      "metadata": {
        "id": "78I5r96c2aGu"
      },
      "source": [
        "### a)\n",
        "Add an Embedding layer with output_dim = floor(num_categories/2)\n",
        "after the one-hot embeddings for categorical variables."
      ]
    },
    {
      "cell_type": "code",
      "metadata": {
        "id": "frNRSM4Z82Oo"
      },
      "source": [
        "def intencode_categorical_feature(feature, name, dataset, is_string):\n",
        "    lookup_class = StringLookup if is_string else IntegerLookup\n",
        "    # Create a lookup layer which will turn strings into integer indices\n",
        "    lookup = lookup_class() \n",
        "\n",
        "    # Prepare a Dataset that only yields our feature\n",
        "    feature_ds = dataset.map(lambda x, y: x[name])\n",
        "    feature_ds = feature_ds.map(lambda x: tf.expand_dims(x, -1))\n",
        "\n",
        "    # Learn the set of possible string values and assign them a fixed integer index\n",
        "    lookup.adapt(feature_ds)\n",
        "\n",
        "    # Turn the string input into integer indices\n",
        "    encoded_feature = lookup(feature)\n",
        "    return encoded_feature"
      ],
      "execution_count": 16,
      "outputs": []
    },
    {
      "cell_type": "code",
      "metadata": {
        "id": "FmeWxyUz2ja6"
      },
      "source": [
        "import math\n",
        "month_num_categories=len(df['month'].unique())\n",
        "month_encoded=intencode_categorical_feature(month,\"month\", train_ds, False)\n",
        "month_embedded = keras.layers.Embedding(input_dim=month_num_categories+1,output_dim=math.floor(month_num_categories/2),name='month_embedding')(month_encoded)\n",
        "storey_range_num_categories=len(df['storey_range'].unique())\n",
        "storey_range_encoded=intencode_categorical_feature(storey_range,\"storey_range\", train_ds, True)\n",
        "storey_range_embedded = keras.layers.Embedding(input_dim=storey_range_num_categories+1,output_dim=math.floor(storey_range_num_categories/2),name='storey_range_embedding')(storey_range_encoded)\n",
        "flat_model_type_num_categories=len(df['flat_model_type'].unique())\n",
        "flat_model_type_encoded=intencode_categorical_feature(flat_model_type,\"flat_model_type\", train_ds, True)\n",
        "flat_model_type_embedded = keras.layers.Embedding(input_dim=flat_model_type_num_categories+1,output_dim=math.floor(flat_model_type_num_categories/2),name='flat_model_type_embedding')(flat_model_type_encoded)"
      ],
      "execution_count": 17,
      "outputs": []
    },
    {
      "cell_type": "markdown",
      "metadata": {
        "id": "rSr8Shmv2vdH"
      },
      "source": [
        "### b)\n",
        "The Embedding layer produces a 2D output (3D, including batch),\n",
        "which cannot be concatenated with the other features. Look through\n",
        "the Keras layers API to determine which layer to add in, such that all\n",
        "the features can be concatenated. Train the model using the same\n",
        "configuration as Q1. "
      ]
    },
    {
      "cell_type": "code",
      "metadata": {
        "id": "wc7sTKFNrxAw"
      },
      "source": [
        "month_flatten = keras.layers.Flatten()(month_embedded)\n",
        "storey_range_flatten = keras.layers.Flatten()(storey_range_embedded)\n",
        "flat_model_type_flatten = keras.layers.Flatten()(flat_model_type_embedded)\n",
        "all_features = layers.concatenate(\n",
        "    [\n",
        "        month_flatten,\n",
        "        storey_range_flatten,\n",
        "        flat_model_type_flatten,\n",
        "        floor_area_sqm_encoded,\n",
        "        remaining_lease_years_encoded,\n",
        "        degree_centrality_encoded,\n",
        "        eigenvector_centrality_encoded,\n",
        "        dist_to_nearest_stn_encoded,\n",
        "        dist_to_dhoby_encoded\n",
        "    ]\n",
        ")"
      ],
      "execution_count": 18,
      "outputs": []
    },
    {
      "cell_type": "code",
      "metadata": {
        "colab": {
          "base_uri": "https://localhost:8080/"
        },
        "id": "2O_FL59sJArQ",
        "outputId": "6eec225c-9a3d-4d3d-d259-1c997f42c101"
      },
      "source": [
        "opt = keras.optimizers.Adam(learning_rate=0.05)\n",
        "x = layers.Dense(10, activation=\"relu\")(all_features)\n",
        "output = layers.Dense(1, activation=\"linear\")(x)\n",
        "model2 = keras.Model(all_inputs, output)\n",
        "num_epochs=100\n",
        "\n",
        "model2.compile(optimizer=opt, \n",
        "                  loss='mse',metrics=[r_squared,rmse])\n",
        "history2 = model2.fit(train_ds, \n",
        "                    epochs=num_epochs,  \n",
        "                    verbose = 2,\n",
        "                    batch_size=128,\n",
        "                    validation_data=(val_ds))"
      ],
      "execution_count": 19,
      "outputs": [
        {
          "output_type": "stream",
          "name": "stdout",
          "text": [
            "Epoch 1/100\n"
          ]
        },
        {
          "output_type": "stream",
          "name": "stderr",
          "text": [
            "/usr/local/lib/python3.7/dist-packages/keras/engine/functional.py:585: UserWarning: Input dict contained keys ['year', 'full_address', 'nearest_stn'] which did not match any model input. They will be ignored by the model.\n",
            "  [n for n in tensors.keys() if n not in ref_input_names])\n"
          ]
        },
        {
          "output_type": "stream",
          "name": "stdout",
          "text": [
            "683/683 - 4s - loss: 46672310272.0000 - r_squared: -1.0140e+00 - rmse: 142362.1250 - val_loss: 11886409728.0000 - val_r_squared: 0.5424 - val_rmse: 71180.4844\n",
            "Epoch 2/100\n",
            "683/683 - 3s - loss: 8083035136.0000 - r_squared: 0.6553 - rmse: 65099.6016 - val_loss: 10083025920.0000 - val_r_squared: 0.6086 - val_rmse: 67781.4297\n",
            "Epoch 3/100\n",
            "683/683 - 3s - loss: 7017737728.0000 - r_squared: 0.7001 - rmse: 60645.6094 - val_loss: 8941665280.0000 - val_r_squared: 0.6544 - val_rmse: 64586.4961\n",
            "Epoch 4/100\n",
            "683/683 - 3s - loss: 6258434560.0000 - r_squared: 0.7320 - rmse: 57137.4609 - val_loss: 8302200320.0000 - val_r_squared: 0.6785 - val_rmse: 63317.7812\n",
            "Epoch 5/100\n",
            "683/683 - 3s - loss: 5587093504.0000 - r_squared: 0.7609 - rmse: 53980.8711 - val_loss: 7894686720.0000 - val_r_squared: 0.6937 - val_rmse: 63164.1641\n",
            "Epoch 6/100\n",
            "683/683 - 3s - loss: 5076578816.0000 - r_squared: 0.7826 - rmse: 51589.4844 - val_loss: 7304058880.0000 - val_r_squared: 0.7162 - val_rmse: 61664.4648\n",
            "Epoch 7/100\n",
            "683/683 - 3s - loss: 4716057088.0000 - r_squared: 0.7981 - rmse: 49901.5977 - val_loss: 6770989568.0000 - val_r_squared: 0.7362 - val_rmse: 59899.5391\n",
            "Epoch 8/100\n",
            "683/683 - 3s - loss: 4449048064.0000 - r_squared: 0.8091 - rmse: 48666.7070 - val_loss: 7018056192.0000 - val_r_squared: 0.7260 - val_rmse: 63060.3516\n",
            "Epoch 9/100\n",
            "683/683 - 3s - loss: 4234850304.0000 - r_squared: 0.8182 - rmse: 47764.0938 - val_loss: 5969187840.0000 - val_r_squared: 0.7677 - val_rmse: 57474.1250\n",
            "Epoch 10/100\n",
            "683/683 - 3s - loss: 4081329664.0000 - r_squared: 0.8248 - rmse: 47218.4102 - val_loss: 6197515264.0000 - val_r_squared: 0.7590 - val_rmse: 59186.7422\n",
            "Epoch 11/100\n",
            "683/683 - 3s - loss: 3974650368.0000 - r_squared: 0.8292 - rmse: 46894.2578 - val_loss: 6427321856.0000 - val_r_squared: 0.7506 - val_rmse: 61262.1055\n",
            "Epoch 12/100\n",
            "683/683 - 3s - loss: 3901493504.0000 - r_squared: 0.8326 - rmse: 46704.2461 - val_loss: 5895808000.0000 - val_r_squared: 0.7689 - val_rmse: 57699.8008\n",
            "Epoch 13/100\n",
            "683/683 - 3s - loss: 3847725312.0000 - r_squared: 0.8344 - rmse: 46564.3086 - val_loss: 6271379456.0000 - val_r_squared: 0.7551 - val_rmse: 60860.7227\n",
            "Epoch 14/100\n",
            "683/683 - 3s - loss: 3809115648.0000 - r_squared: 0.8362 - rmse: 46437.0469 - val_loss: 6097600512.0000 - val_r_squared: 0.7624 - val_rmse: 59718.2969\n",
            "Epoch 15/100\n",
            "683/683 - 3s - loss: 3779594496.0000 - r_squared: 0.8376 - rmse: 46336.0625 - val_loss: 6171859456.0000 - val_r_squared: 0.7602 - val_rmse: 60275.1211\n",
            "Epoch 16/100\n",
            "683/683 - 3s - loss: 3761688064.0000 - r_squared: 0.8383 - rmse: 46299.5664 - val_loss: 6477824000.0000 - val_r_squared: 0.7483 - val_rmse: 62197.1836\n",
            "Epoch 17/100\n",
            "683/683 - 3s - loss: 3740202240.0000 - r_squared: 0.8394 - rmse: 46189.7578 - val_loss: 6582944256.0000 - val_r_squared: 0.7431 - val_rmse: 62836.8555\n",
            "Epoch 18/100\n",
            "683/683 - 3s - loss: 3730739968.0000 - r_squared: 0.8395 - rmse: 46135.7383 - val_loss: 6675741696.0000 - val_r_squared: 0.7404 - val_rmse: 63179.7695\n",
            "Epoch 19/100\n",
            "683/683 - 3s - loss: 3720835072.0000 - r_squared: 0.8401 - rmse: 46090.9570 - val_loss: 6497278976.0000 - val_r_squared: 0.7466 - val_rmse: 62501.8516\n",
            "Epoch 20/100\n",
            "683/683 - 3s - loss: 3710108416.0000 - r_squared: 0.8404 - rmse: 46036.2266 - val_loss: 5695243776.0000 - val_r_squared: 0.7781 - val_rmse: 57515.8398\n",
            "Epoch 21/100\n",
            "683/683 - 3s - loss: 3703311872.0000 - r_squared: 0.8405 - rmse: 46004.4922 - val_loss: 6274664448.0000 - val_r_squared: 0.7551 - val_rmse: 60974.8477\n",
            "Epoch 22/100\n",
            "683/683 - 3s - loss: 3693949952.0000 - r_squared: 0.8412 - rmse: 45930.8555 - val_loss: 6305501184.0000 - val_r_squared: 0.7538 - val_rmse: 61496.0820\n",
            "Epoch 23/100\n",
            "683/683 - 3s - loss: 3688882944.0000 - r_squared: 0.8412 - rmse: 45894.5977 - val_loss: 5981998592.0000 - val_r_squared: 0.7668 - val_rmse: 59058.9062\n",
            "Epoch 24/100\n",
            "683/683 - 3s - loss: 3692167424.0000 - r_squared: 0.8413 - rmse: 45918.9023 - val_loss: 6172700160.0000 - val_r_squared: 0.7587 - val_rmse: 60451.2227\n",
            "Epoch 25/100\n",
            "683/683 - 3s - loss: 3677613568.0000 - r_squared: 0.8421 - rmse: 45827.1953 - val_loss: 6056649728.0000 - val_r_squared: 0.7646 - val_rmse: 59480.2891\n",
            "Epoch 26/100\n",
            "683/683 - 3s - loss: 3669144064.0000 - r_squared: 0.8424 - rmse: 45783.1328 - val_loss: 6063730176.0000 - val_r_squared: 0.7642 - val_rmse: 59623.9453\n",
            "Epoch 27/100\n",
            "683/683 - 3s - loss: 3668851200.0000 - r_squared: 0.8424 - rmse: 45784.4570 - val_loss: 6107906048.0000 - val_r_squared: 0.7621 - val_rmse: 60007.4414\n",
            "Epoch 28/100\n",
            "683/683 - 3s - loss: 3663525120.0000 - r_squared: 0.8420 - rmse: 45743.2734 - val_loss: 6619655680.0000 - val_r_squared: 0.7418 - val_rmse: 63129.3047\n",
            "Epoch 29/100\n",
            "683/683 - 3s - loss: 3660997120.0000 - r_squared: 0.8425 - rmse: 45728.3398 - val_loss: 6468604416.0000 - val_r_squared: 0.7480 - val_rmse: 62247.5430\n",
            "Epoch 30/100\n",
            "683/683 - 3s - loss: 3660044544.0000 - r_squared: 0.8431 - rmse: 45703.9844 - val_loss: 6303068672.0000 - val_r_squared: 0.7555 - val_rmse: 61075.3086\n",
            "Epoch 31/100\n",
            "683/683 - 3s - loss: 3655916800.0000 - r_squared: 0.8430 - rmse: 45701.4766 - val_loss: 6837441024.0000 - val_r_squared: 0.7332 - val_rmse: 64452.7656\n",
            "Epoch 32/100\n",
            "683/683 - 3s - loss: 3651533056.0000 - r_squared: 0.8432 - rmse: 45669.9570 - val_loss: 5982874624.0000 - val_r_squared: 0.7669 - val_rmse: 59052.8086\n",
            "Epoch 33/100\n",
            "683/683 - 3s - loss: 3649658368.0000 - r_squared: 0.8434 - rmse: 45668.4844 - val_loss: 6102343168.0000 - val_r_squared: 0.7627 - val_rmse: 59717.0352\n",
            "Epoch 34/100\n",
            "683/683 - 3s - loss: 3649517056.0000 - r_squared: 0.8433 - rmse: 45645.3086 - val_loss: 5419231232.0000 - val_r_squared: 0.7894 - val_rmse: 55903.4805\n",
            "Epoch 35/100\n",
            "683/683 - 3s - loss: 3651851776.0000 - r_squared: 0.8433 - rmse: 45644.6406 - val_loss: 6542961152.0000 - val_r_squared: 0.7454 - val_rmse: 62613.5391\n",
            "Epoch 36/100\n",
            "683/683 - 3s - loss: 3654137856.0000 - r_squared: 0.8432 - rmse: 45668.8359 - val_loss: 5886644224.0000 - val_r_squared: 0.7711 - val_rmse: 58538.7773\n",
            "Epoch 37/100\n",
            "683/683 - 3s - loss: 3650744064.0000 - r_squared: 0.8433 - rmse: 45654.4023 - val_loss: 5670089216.0000 - val_r_squared: 0.7800 - val_rmse: 57179.9492\n",
            "Epoch 38/100\n",
            "683/683 - 3s - loss: 3650561280.0000 - r_squared: 0.8429 - rmse: 45640.9414 - val_loss: 5969909760.0000 - val_r_squared: 0.7668 - val_rmse: 59222.7070\n",
            "Epoch 39/100\n",
            "683/683 - 3s - loss: 3650307072.0000 - r_squared: 0.8430 - rmse: 45659.3633 - val_loss: 5867211264.0000 - val_r_squared: 0.7707 - val_rmse: 58430.9844\n",
            "Epoch 40/100\n",
            "683/683 - 3s - loss: 3646266112.0000 - r_squared: 0.8433 - rmse: 45622.8047 - val_loss: 5688540160.0000 - val_r_squared: 0.7784 - val_rmse: 57454.7188\n",
            "Epoch 41/100\n",
            "683/683 - 3s - loss: 3648756992.0000 - r_squared: 0.8432 - rmse: 45670.3359 - val_loss: 6378529280.0000 - val_r_squared: 0.7516 - val_rmse: 61600.1875\n",
            "Epoch 42/100\n",
            "683/683 - 3s - loss: 3646639616.0000 - r_squared: 0.8437 - rmse: 45627.2539 - val_loss: 5978387456.0000 - val_r_squared: 0.7679 - val_rmse: 59217.9297\n",
            "Epoch 43/100\n",
            "683/683 - 3s - loss: 3603200000.0000 - r_squared: 0.8456 - rmse: 45309.8203 - val_loss: 5697786880.0000 - val_r_squared: 0.7776 - val_rmse: 57548.8047\n",
            "Epoch 44/100\n",
            "683/683 - 3s - loss: 3342226176.0000 - r_squared: 0.8561 - rmse: 43354.1484 - val_loss: 6033841152.0000 - val_r_squared: 0.7640 - val_rmse: 60473.7031\n",
            "Epoch 45/100\n",
            "683/683 - 3s - loss: 3224000256.0000 - r_squared: 0.8614 - rmse: 42589.3672 - val_loss: 5617967104.0000 - val_r_squared: 0.7809 - val_rmse: 58137.9102\n",
            "Epoch 46/100\n",
            "683/683 - 3s - loss: 3087315456.0000 - r_squared: 0.8673 - rmse: 41616.8828 - val_loss: 5398389248.0000 - val_r_squared: 0.7893 - val_rmse: 57237.6172\n",
            "Epoch 47/100\n",
            "683/683 - 3s - loss: 2966924544.0000 - r_squared: 0.8722 - rmse: 40705.9961 - val_loss: 5756722688.0000 - val_r_squared: 0.7757 - val_rmse: 59956.7734\n",
            "Epoch 48/100\n",
            "683/683 - 3s - loss: 2877686784.0000 - r_squared: 0.8760 - rmse: 39950.6992 - val_loss: 5075321856.0000 - val_r_squared: 0.8011 - val_rmse: 55736.4570\n",
            "Epoch 49/100\n",
            "683/683 - 3s - loss: 2819052544.0000 - r_squared: 0.8785 - rmse: 39444.8359 - val_loss: 5371620352.0000 - val_r_squared: 0.7893 - val_rmse: 57920.6094\n",
            "Epoch 50/100\n",
            "683/683 - 3s - loss: 2777651456.0000 - r_squared: 0.8805 - rmse: 39073.3008 - val_loss: 5372308992.0000 - val_r_squared: 0.7893 - val_rmse: 57686.7383\n",
            "Epoch 51/100\n",
            "683/683 - 3s - loss: 2759520256.0000 - r_squared: 0.8811 - rmse: 38919.7852 - val_loss: 5130903552.0000 - val_r_squared: 0.7997 - val_rmse: 56196.0312\n",
            "Epoch 52/100\n",
            "683/683 - 3s - loss: 2739310592.0000 - r_squared: 0.8818 - rmse: 38708.8555 - val_loss: 5130915840.0000 - val_r_squared: 0.7995 - val_rmse: 56220.9492\n",
            "Epoch 53/100\n",
            "683/683 - 3s - loss: 2734695936.0000 - r_squared: 0.8818 - rmse: 38679.5859 - val_loss: 5113912832.0000 - val_r_squared: 0.8001 - val_rmse: 56019.1211\n",
            "Epoch 54/100\n",
            "683/683 - 3s - loss: 2728321792.0000 - r_squared: 0.8820 - rmse: 38556.2656 - val_loss: 5275852288.0000 - val_r_squared: 0.7933 - val_rmse: 57370.0664\n",
            "Epoch 55/100\n",
            "683/683 - 3s - loss: 2731436288.0000 - r_squared: 0.8822 - rmse: 38565.0078 - val_loss: 5123767808.0000 - val_r_squared: 0.7994 - val_rmse: 56436.5859\n",
            "Epoch 56/100\n",
            "683/683 - 3s - loss: 2725844736.0000 - r_squared: 0.8823 - rmse: 38517.3008 - val_loss: 5028604928.0000 - val_r_squared: 0.8028 - val_rmse: 55086.6055\n",
            "Epoch 57/100\n",
            "683/683 - 3s - loss: 2717837056.0000 - r_squared: 0.8830 - rmse: 38462.1797 - val_loss: 4531446784.0000 - val_r_squared: 0.8228 - val_rmse: 52138.4453\n",
            "Epoch 58/100\n",
            "683/683 - 3s - loss: 2720188160.0000 - r_squared: 0.8829 - rmse: 38464.3008 - val_loss: 5031776768.0000 - val_r_squared: 0.8033 - val_rmse: 55678.3711\n",
            "Epoch 59/100\n",
            "683/683 - 3s - loss: 2720432128.0000 - r_squared: 0.8826 - rmse: 38466.4375 - val_loss: 5088647168.0000 - val_r_squared: 0.8007 - val_rmse: 56737.7227\n",
            "Epoch 60/100\n",
            "683/683 - 3s - loss: 2719016192.0000 - r_squared: 0.8829 - rmse: 38449.7734 - val_loss: 5470997504.0000 - val_r_squared: 0.7855 - val_rmse: 58538.3438\n",
            "Epoch 61/100\n",
            "683/683 - 3s - loss: 2715946752.0000 - r_squared: 0.8826 - rmse: 38437.4648 - val_loss: 5287808000.0000 - val_r_squared: 0.7928 - val_rmse: 57340.4258\n",
            "Epoch 62/100\n",
            "683/683 - 3s - loss: 2712674560.0000 - r_squared: 0.8829 - rmse: 38408.4570 - val_loss: 5270158848.0000 - val_r_squared: 0.7944 - val_rmse: 57251.2031\n",
            "Epoch 63/100\n",
            "683/683 - 3s - loss: 2712789760.0000 - r_squared: 0.8829 - rmse: 38406.5078 - val_loss: 4870285312.0000 - val_r_squared: 0.8088 - val_rmse: 54151.5469\n",
            "Epoch 64/100\n",
            "683/683 - 3s - loss: 2713870336.0000 - r_squared: 0.8832 - rmse: 38416.1836 - val_loss: 5249056256.0000 - val_r_squared: 0.7950 - val_rmse: 56834.7617\n",
            "Epoch 65/100\n",
            "683/683 - 3s - loss: 2710966784.0000 - r_squared: 0.8829 - rmse: 38401.3711 - val_loss: 4820427264.0000 - val_r_squared: 0.8104 - val_rmse: 54003.3594\n",
            "Epoch 66/100\n",
            "683/683 - 3s - loss: 2712123648.0000 - r_squared: 0.8831 - rmse: 38400.6211 - val_loss: 4813336064.0000 - val_r_squared: 0.8123 - val_rmse: 53918.0273\n",
            "Epoch 67/100\n",
            "683/683 - 3s - loss: 2710519808.0000 - r_squared: 0.8830 - rmse: 38398.8320 - val_loss: 4703761408.0000 - val_r_squared: 0.8158 - val_rmse: 53055.7578\n",
            "Epoch 68/100\n",
            "683/683 - 3s - loss: 2712582400.0000 - r_squared: 0.8830 - rmse: 38400.9023 - val_loss: 5009928192.0000 - val_r_squared: 0.8043 - val_rmse: 55015.3555\n",
            "Epoch 69/100\n",
            "683/683 - 3s - loss: 2711714816.0000 - r_squared: 0.8831 - rmse: 38408.5469 - val_loss: 5894683648.0000 - val_r_squared: 0.7699 - val_rmse: 61206.2930\n",
            "Epoch 70/100\n",
            "683/683 - 3s - loss: 2714018304.0000 - r_squared: 0.8828 - rmse: 38419.2109 - val_loss: 5829463040.0000 - val_r_squared: 0.7722 - val_rmse: 60892.1992\n",
            "Epoch 71/100\n",
            "683/683 - 3s - loss: 2712956928.0000 - r_squared: 0.8831 - rmse: 38420.5234 - val_loss: 4738796032.0000 - val_r_squared: 0.8159 - val_rmse: 53465.3398\n",
            "Epoch 72/100\n",
            "683/683 - 3s - loss: 2709305600.0000 - r_squared: 0.8833 - rmse: 38385.5508 - val_loss: 5210586624.0000 - val_r_squared: 0.7969 - val_rmse: 56981.0469\n",
            "Epoch 73/100\n",
            "683/683 - 3s - loss: 2711845120.0000 - r_squared: 0.8829 - rmse: 38427.5039 - val_loss: 5191863808.0000 - val_r_squared: 0.7954 - val_rmse: 56430.8984\n",
            "Epoch 74/100\n",
            "683/683 - 3s - loss: 2709895424.0000 - r_squared: 0.8834 - rmse: 38387.5898 - val_loss: 5782739456.0000 - val_r_squared: 0.7734 - val_rmse: 60434.2969\n",
            "Epoch 75/100\n",
            "683/683 - 3s - loss: 2707381504.0000 - r_squared: 0.8831 - rmse: 38398.1953 - val_loss: 4878802432.0000 - val_r_squared: 0.8097 - val_rmse: 54396.3242\n",
            "Epoch 76/100\n",
            "683/683 - 3s - loss: 2710044672.0000 - r_squared: 0.8830 - rmse: 38402.1875 - val_loss: 4955362304.0000 - val_r_squared: 0.8062 - val_rmse: 55103.7266\n",
            "Epoch 77/100\n",
            "683/683 - 3s - loss: 2712264960.0000 - r_squared: 0.8832 - rmse: 38419.4648 - val_loss: 5456016896.0000 - val_r_squared: 0.7862 - val_rmse: 58266.9023\n",
            "Epoch 78/100\n",
            "683/683 - 3s - loss: 2713031936.0000 - r_squared: 0.8830 - rmse: 38415.4375 - val_loss: 5161631744.0000 - val_r_squared: 0.7984 - val_rmse: 56666.9062\n",
            "Epoch 79/100\n",
            "683/683 - 3s - loss: 2705991936.0000 - r_squared: 0.8835 - rmse: 38363.4219 - val_loss: 4777478656.0000 - val_r_squared: 0.8133 - val_rmse: 53943.8242\n",
            "Epoch 80/100\n",
            "683/683 - 3s - loss: 2706851584.0000 - r_squared: 0.8833 - rmse: 38375.7422 - val_loss: 5283889664.0000 - val_r_squared: 0.7932 - val_rmse: 57260.1562\n",
            "Epoch 81/100\n",
            "683/683 - 3s - loss: 2705866240.0000 - r_squared: 0.8834 - rmse: 38385.9844 - val_loss: 5114612224.0000 - val_r_squared: 0.8009 - val_rmse: 56123.9336\n",
            "Epoch 82/100\n",
            "683/683 - 3s - loss: 2710080256.0000 - r_squared: 0.8833 - rmse: 38408.2773 - val_loss: 4828294144.0000 - val_r_squared: 0.8114 - val_rmse: 54036.1367\n",
            "Epoch 83/100\n",
            "683/683 - 3s - loss: 2707694592.0000 - r_squared: 0.8836 - rmse: 38400.2305 - val_loss: 4904939008.0000 - val_r_squared: 0.8072 - val_rmse: 54851.2578\n",
            "Epoch 84/100\n",
            "683/683 - 3s - loss: 2704912384.0000 - r_squared: 0.8834 - rmse: 38402.5742 - val_loss: 4511486464.0000 - val_r_squared: 0.8248 - val_rmse: 52237.8047\n",
            "Epoch 85/100\n",
            "683/683 - 3s - loss: 2710782464.0000 - r_squared: 0.8833 - rmse: 38407.7695 - val_loss: 5183167488.0000 - val_r_squared: 0.7964 - val_rmse: 56648.8594\n",
            "Epoch 86/100\n",
            "683/683 - 3s - loss: 2707088384.0000 - r_squared: 0.8833 - rmse: 38389.1016 - val_loss: 5089667584.0000 - val_r_squared: 0.8001 - val_rmse: 55454.4102\n",
            "Epoch 87/100\n",
            "683/683 - 3s - loss: 2712681728.0000 - r_squared: 0.8828 - rmse: 38443.3945 - val_loss: 5744449024.0000 - val_r_squared: 0.7747 - val_rmse: 60699.7422\n",
            "Epoch 88/100\n",
            "683/683 - 3s - loss: 2706163456.0000 - r_squared: 0.8831 - rmse: 38384.7773 - val_loss: 4964533760.0000 - val_r_squared: 0.8048 - val_rmse: 54839.5430\n",
            "Epoch 89/100\n",
            "683/683 - 3s - loss: 2707391744.0000 - r_squared: 0.8834 - rmse: 38385.8984 - val_loss: 5128083456.0000 - val_r_squared: 0.8004 - val_rmse: 56083.3047\n",
            "Epoch 90/100\n",
            "683/683 - 3s - loss: 2704801280.0000 - r_squared: 0.8835 - rmse: 38366.8516 - val_loss: 4812682752.0000 - val_r_squared: 0.8117 - val_rmse: 53985.2695\n",
            "Epoch 91/100\n",
            "683/683 - 3s - loss: 2703187456.0000 - r_squared: 0.8833 - rmse: 38368.5156 - val_loss: 5394873344.0000 - val_r_squared: 0.7884 - val_rmse: 58159.4062\n",
            "Epoch 92/100\n",
            "683/683 - 3s - loss: 2707995904.0000 - r_squared: 0.8830 - rmse: 38393.3320 - val_loss: 4766230528.0000 - val_r_squared: 0.8133 - val_rmse: 54062.7188\n",
            "Epoch 93/100\n",
            "683/683 - 3s - loss: 2708354560.0000 - r_squared: 0.8833 - rmse: 38423.6953 - val_loss: 4710378496.0000 - val_r_squared: 0.8153 - val_rmse: 53258.2383\n",
            "Epoch 94/100\n",
            "683/683 - 3s - loss: 2709097728.0000 - r_squared: 0.8832 - rmse: 38408.2109 - val_loss: 4872936960.0000 - val_r_squared: 0.8085 - val_rmse: 54470.6523\n",
            "Epoch 95/100\n",
            "683/683 - 3s - loss: 2703964928.0000 - r_squared: 0.8834 - rmse: 38359.0742 - val_loss: 5086542336.0000 - val_r_squared: 0.8018 - val_rmse: 55791.9258\n",
            "Epoch 96/100\n",
            "683/683 - 3s - loss: 2705142016.0000 - r_squared: 0.8833 - rmse: 38389.8438 - val_loss: 4651644928.0000 - val_r_squared: 0.8172 - val_rmse: 52943.5156\n",
            "Epoch 97/100\n",
            "683/683 - 3s - loss: 2706170368.0000 - r_squared: 0.8833 - rmse: 38369.7891 - val_loss: 4971258368.0000 - val_r_squared: 0.8047 - val_rmse: 55282.2148\n",
            "Epoch 98/100\n",
            "683/683 - 3s - loss: 2707710976.0000 - r_squared: 0.8833 - rmse: 38402.4141 - val_loss: 5168943104.0000 - val_r_squared: 0.7983 - val_rmse: 56279.6562\n",
            "Epoch 99/100\n",
            "683/683 - 3s - loss: 2702609664.0000 - r_squared: 0.8831 - rmse: 38370.1133 - val_loss: 4850941952.0000 - val_r_squared: 0.8091 - val_rmse: 54210.8633\n",
            "Epoch 100/100\n",
            "683/683 - 3s - loss: 2709906176.0000 - r_squared: 0.8828 - rmse: 38429.4453 - val_loss: 5124442112.0000 - val_r_squared: 0.7981 - val_rmse: 56152.5938\n"
          ]
        }
      ]
    },
    {
      "cell_type": "markdown",
      "metadata": {
        "id": "WQ4YA5xT21Os"
      },
      "source": [
        "### c)\n",
        " Compare the current model performances in terms of both test RMSE\n",
        "and test R\n",
        "2 with the model from Q1 (at their own best epochs) and\n",
        "suggest a possible reason for the difference in performance."
      ]
    },
    {
      "cell_type": "code",
      "metadata": {
        "colab": {
          "base_uri": "https://localhost:8080/"
        },
        "id": "LdZz5l0MQaTe",
        "outputId": "7186f662-488b-4b51-b20f-2fee9349d691"
      },
      "source": [
        "best_epoch2=0\n",
        "for i in range(len(history2.history['val_loss'])):\n",
        "  if (history2.history['val_loss'][i]<history2.history['val_loss'][best_epoch2-1]):\n",
        "    best_epoch2=i+1\n",
        "print(best_epoch2)"
      ],
      "execution_count": 20,
      "outputs": [
        {
          "output_type": "stream",
          "name": "stdout",
          "text": [
            "84\n"
          ]
        }
      ]
    },
    {
      "cell_type": "markdown",
      "metadata": {
        "id": "cewDxwVaGMBv"
      },
      "source": [
        "The best epoch is epoch 84. The values are as follows:"
      ]
    },
    {
      "cell_type": "code",
      "metadata": {
        "colab": {
          "base_uri": "https://localhost:8080/"
        },
        "id": "POwaHaTGGWwn",
        "outputId": "9c60c5e2-a2ee-4fa0-fcb1-2e84cccc4ae5"
      },
      "source": [
        "print(\"RMSE:\",history2.history['val_rmse'][best_epoch2-1],\"R2\",history2.history['val_r_squared'][best_epoch2-1])"
      ],
      "execution_count": 21,
      "outputs": [
        {
          "output_type": "stream",
          "name": "stdout",
          "text": [
            "RMSE: 52237.8046875 R2 0.82480388879776\n"
          ]
        }
      ]
    },
    {
      "cell_type": "markdown",
      "metadata": {
        "id": "90ljG-jDP4GN"
      },
      "source": [
        "Values in model from question 1:"
      ]
    },
    {
      "cell_type": "code",
      "metadata": {
        "colab": {
          "base_uri": "https://localhost:8080/"
        },
        "id": "hCdgT0iNOQ5I",
        "outputId": "c4549dff-ad9d-48b5-ba21-976c64d1dfac"
      },
      "source": [
        "print(\"RMSE:\",history.history['val_rmse'][best_epoch-1],\"R2\",history.history['val_r_squared'][best_epoch-1])"
      ],
      "execution_count": 22,
      "outputs": [
        {
          "output_type": "stream",
          "name": "stdout",
          "text": [
            "RMSE: 54432.6875 R2 0.8073545098304749\n"
          ]
        }
      ]
    },
    {
      "cell_type": "markdown",
      "metadata": {
        "id": "m7glKabEP9-a"
      },
      "source": [
        "As embedded layer gives a much more richer representation of data, we can see that there is a difference in performance between the two. Thus, the RMSE for the model with the embedded layer has a lower RMSE (loss) and a higher R^2. One-hot encoding gives a sparse representation. One-hot encoding also results in high memory consumption."
      ]
    },
    {
      "cell_type": "markdown",
      "metadata": {
        "id": "jqwnf43X27-M"
      },
      "source": [
        "## Question 3"
      ]
    },
    {
      "cell_type": "markdown",
      "metadata": {
        "id": "vFAF3M9J3FL5"
      },
      "source": [
        "Recursive feature elimination (RFE) is a feature selection method that removes\n",
        "unnecessary features from the inputs. It can also shed some insights on how much each\n",
        "feature contributes to the prediction task"
      ]
    },
    {
      "cell_type": "markdown",
      "metadata": {
        "id": "Yui9Nly13OUD"
      },
      "source": [
        "### a)\n",
        "Continue with the model architecture you have after Q2. Via a callback,\n",
        "introduce early stopping (based on val_loss, with patience of 10 epochs) to\n",
        "the model."
      ]
    },
    {
      "cell_type": "code",
      "metadata": {
        "id": "UCGNvFNrNtJw"
      },
      "source": [
        "def valid_callback(name):\n",
        "  return [tf.keras.callbacks.EarlyStopping(monitor='val_loss', patience=10)]"
      ],
      "execution_count": 23,
      "outputs": []
    },
    {
      "cell_type": "markdown",
      "metadata": {
        "id": "QjQDjZqK3QOB"
      },
      "source": [
        "### b)\n",
        "Start by removing one input feature whose removal leads to the minimum\n",
        "drop (or maximum improvement) in performance5\n",
        ". Repeat the procedure\n",
        "recursively on the reduced input set until the optimal number of input\n",
        "features is reached6\n",
        ". Remember to remove features one at a time. Record\n",
        "the RMSE of each experiment neatly in a table."
      ]
    },
    {
      "cell_type": "code",
      "metadata": {
        "id": "9CFUvaKK8pxn",
        "colab": {
          "base_uri": "https://localhost:8080/"
        },
        "outputId": "adf5a412-fe57-4675-f44d-de3c73bc6c4d"
      },
      "source": [
        "#boolean mask with one feature marked as false\n",
        "features_mask = [[False, True, True, True, True, True, True, True, True], \n",
        "                [True, False, True, True, True, True, True, True, True],  \n",
        "                [True, True, False, True, True, True, True, True, True],  \n",
        "                [True, True, True, False, True, True, True, True, True],  \n",
        "                [True, True, True, True, False, True, True, True, True], \n",
        "                [True, True, True, True, True, False, True, True, True],  \n",
        "                [True, True, True, True, True, True, False, True, True], \n",
        "                [True, True, True, True, True, True, True, False, True],  \n",
        "                [True, True, True, True, True, True, True, True, False]]  \n",
        "best_error=1e15\n",
        "all_layers=  [\n",
        "        month_flatten,\n",
        "        storey_range_flatten,\n",
        "        flat_model_type_flatten,\n",
        "        floor_area_sqm_encoded,\n",
        "        remaining_lease_years_encoded,\n",
        "        degree_centrality_encoded,\n",
        "        eigenvector_centrality_encoded,\n",
        "        dist_to_nearest_stn_encoded,\n",
        "        dist_to_dhoby_encoded\n",
        "    ]\n",
        "all_layers_names=  [\n",
        "        'month',\n",
        "        'storey_range',\n",
        "        'flat_model_type',\n",
        "        'floor_area_sqm',\n",
        "        'remaining_lease_years',\n",
        "        'degree_centrality',\n",
        "        'eigenvector_centrality',\n",
        "        'dist_to_nearest_stn',\n",
        "        'dist_to_dhoby']\n",
        "table_features=[]\n",
        "table_rmse=[]\n",
        "def compile_and_fit(features_mask):\n",
        "  inputs = np.array(all_inputs)[features_mask].tolist()\n",
        "        \n",
        "  selected_layers = np.array(all_layers)[features_mask].tolist()\n",
        "        \n",
        "  input_layers = keras.layers.Concatenate()(selected_layers)\n",
        "  x = layers.Dense(10, activation=\"relu\")(input_layers)\n",
        "  output = layers.Dense(1, activation=\"linear\")(x)\n",
        "  model3 = keras.Model(inputs, output)\n",
        "  model3.compile(optimizer=opt, \n",
        "                  loss='mse',metrics=[rmse])\n",
        "  history3 = model3.fit(train_ds, \n",
        "                    epochs=num_epochs,  \n",
        "                    verbose = 0,\n",
        "                    callbacks=valid_callback('model'), \n",
        "                    validation_data=(val_ds))\n",
        "  table_features.append(np.array(all_layers_names)[np.invert(features_mask)].tolist())\n",
        "  table_rmse.append(np.mean(history3.history['val_rmse']))\n",
        "  return np.min(history3.history['val_loss'])\n",
        "def remove_features(num_features,features_mask,removed_features,best_error):\n",
        "  performance=[]\n",
        "  for i in range(len(features_mask)):\n",
        "    if i not in removed_features:\n",
        "      performance.append(compile_and_fit(features_mask[i]))\n",
        "    else:\n",
        "      performance.append(1e15)\n",
        "  if (best_error<np.min(performance)):\n",
        "    return removed_features\n",
        "  else: \n",
        "    best_error=np.min(performance)\n",
        "    index=np.argmin(performance)\n",
        "    print(index)\n",
        "    removed_features.append(index)\n",
        "    for i in range(len(features_mask)):\n",
        "      features_mask[i][index]=False\n",
        "    remove_features(num_features-1,features_mask,removed_features,best_error)\n",
        "\n",
        "removed_features=[]\n",
        "best_model=remove_features(9,features_mask,removed_features,best_error)\n",
        "print(\"Completed RFE\")"
      ],
      "execution_count": 24,
      "outputs": [
        {
          "output_type": "stream",
          "name": "stderr",
          "text": [
            "/usr/local/lib/python3.7/dist-packages/keras/engine/functional.py:585: UserWarning: Input dict contained keys ['month', 'year', 'full_address', 'nearest_stn'] which did not match any model input. They will be ignored by the model.\n",
            "  [n for n in tensors.keys() if n not in ref_input_names])\n",
            "/usr/local/lib/python3.7/dist-packages/keras/engine/functional.py:585: UserWarning: Input dict contained keys ['year', 'full_address', 'nearest_stn', 'storey_range'] which did not match any model input. They will be ignored by the model.\n",
            "  [n for n in tensors.keys() if n not in ref_input_names])\n",
            "/usr/local/lib/python3.7/dist-packages/keras/engine/functional.py:585: UserWarning: Input dict contained keys ['year', 'full_address', 'nearest_stn', 'flat_model_type'] which did not match any model input. They will be ignored by the model.\n",
            "  [n for n in tensors.keys() if n not in ref_input_names])\n",
            "/usr/local/lib/python3.7/dist-packages/keras/engine/functional.py:585: UserWarning: Input dict contained keys ['year', 'full_address', 'nearest_stn', 'floor_area_sqm'] which did not match any model input. They will be ignored by the model.\n",
            "  [n for n in tensors.keys() if n not in ref_input_names])\n",
            "/usr/local/lib/python3.7/dist-packages/keras/engine/functional.py:585: UserWarning: Input dict contained keys ['year', 'full_address', 'nearest_stn', 'remaining_lease_years'] which did not match any model input. They will be ignored by the model.\n",
            "  [n for n in tensors.keys() if n not in ref_input_names])\n",
            "/usr/local/lib/python3.7/dist-packages/keras/engine/functional.py:585: UserWarning: Input dict contained keys ['year', 'full_address', 'nearest_stn', 'degree_centrality'] which did not match any model input. They will be ignored by the model.\n",
            "  [n for n in tensors.keys() if n not in ref_input_names])\n",
            "/usr/local/lib/python3.7/dist-packages/keras/engine/functional.py:585: UserWarning: Input dict contained keys ['year', 'full_address', 'nearest_stn', 'eigenvector_centrality'] which did not match any model input. They will be ignored by the model.\n",
            "  [n for n in tensors.keys() if n not in ref_input_names])\n",
            "/usr/local/lib/python3.7/dist-packages/keras/engine/functional.py:585: UserWarning: Input dict contained keys ['year', 'full_address', 'nearest_stn', 'dist_to_nearest_stn'] which did not match any model input. They will be ignored by the model.\n",
            "  [n for n in tensors.keys() if n not in ref_input_names])\n",
            "/usr/local/lib/python3.7/dist-packages/keras/engine/functional.py:585: UserWarning: Input dict contained keys ['year', 'full_address', 'nearest_stn', 'dist_to_dhoby'] which did not match any model input. They will be ignored by the model.\n",
            "  [n for n in tensors.keys() if n not in ref_input_names])\n"
          ]
        },
        {
          "output_type": "stream",
          "name": "stdout",
          "text": [
            "5\n"
          ]
        },
        {
          "output_type": "stream",
          "name": "stderr",
          "text": [
            "/usr/local/lib/python3.7/dist-packages/keras/engine/functional.py:585: UserWarning: Input dict contained keys ['month', 'year', 'full_address', 'nearest_stn', 'degree_centrality'] which did not match any model input. They will be ignored by the model.\n",
            "  [n for n in tensors.keys() if n not in ref_input_names])\n",
            "/usr/local/lib/python3.7/dist-packages/keras/engine/functional.py:585: UserWarning: Input dict contained keys ['year', 'full_address', 'nearest_stn', 'degree_centrality', 'storey_range'] which did not match any model input. They will be ignored by the model.\n",
            "  [n for n in tensors.keys() if n not in ref_input_names])\n",
            "/usr/local/lib/python3.7/dist-packages/keras/engine/functional.py:585: UserWarning: Input dict contained keys ['year', 'full_address', 'nearest_stn', 'degree_centrality', 'flat_model_type'] which did not match any model input. They will be ignored by the model.\n",
            "  [n for n in tensors.keys() if n not in ref_input_names])\n",
            "/usr/local/lib/python3.7/dist-packages/keras/engine/functional.py:585: UserWarning: Input dict contained keys ['year', 'full_address', 'nearest_stn', 'degree_centrality', 'floor_area_sqm'] which did not match any model input. They will be ignored by the model.\n",
            "  [n for n in tensors.keys() if n not in ref_input_names])\n",
            "/usr/local/lib/python3.7/dist-packages/keras/engine/functional.py:585: UserWarning: Input dict contained keys ['year', 'full_address', 'nearest_stn', 'degree_centrality', 'remaining_lease_years'] which did not match any model input. They will be ignored by the model.\n",
            "  [n for n in tensors.keys() if n not in ref_input_names])\n",
            "/usr/local/lib/python3.7/dist-packages/keras/engine/functional.py:585: UserWarning: Input dict contained keys ['year', 'full_address', 'nearest_stn', 'degree_centrality', 'eigenvector_centrality'] which did not match any model input. They will be ignored by the model.\n",
            "  [n for n in tensors.keys() if n not in ref_input_names])\n",
            "/usr/local/lib/python3.7/dist-packages/keras/engine/functional.py:585: UserWarning: Input dict contained keys ['year', 'full_address', 'nearest_stn', 'dist_to_nearest_stn', 'degree_centrality'] which did not match any model input. They will be ignored by the model.\n",
            "  [n for n in tensors.keys() if n not in ref_input_names])\n",
            "/usr/local/lib/python3.7/dist-packages/keras/engine/functional.py:585: UserWarning: Input dict contained keys ['year', 'full_address', 'nearest_stn', 'dist_to_dhoby', 'degree_centrality'] which did not match any model input. They will be ignored by the model.\n",
            "  [n for n in tensors.keys() if n not in ref_input_names])\n"
          ]
        },
        {
          "output_type": "stream",
          "name": "stdout",
          "text": [
            "Completed RFE\n"
          ]
        }
      ]
    },
    {
      "cell_type": "code",
      "metadata": {
        "colab": {
          "base_uri": "https://localhost:8080/"
        },
        "id": "3dpBmBae8PWQ",
        "outputId": "fab422e0-055b-41d4-b643-9cb355ed9f9e"
      },
      "source": [
        "print(\"Removed Features:\")\n",
        "for val in removed_features:\n",
        "  print(all_layers_names[val])"
      ],
      "execution_count": 25,
      "outputs": [
        {
          "output_type": "stream",
          "name": "stdout",
          "text": [
            "Removed Features:\n",
            "degree_centrality\n"
          ]
        }
      ]
    },
    {
      "cell_type": "code",
      "metadata": {
        "colab": {
          "base_uri": "https://localhost:8080/"
        },
        "id": "CEvi4UV-9Ylt",
        "outputId": "d579e339-4b2a-4122-e988-77cb55da4630"
      },
      "source": [
        "print(\"Removed Features\\t\\t\\tRMSE\")\n",
        "for i in range(len(table_rmse)):\n",
        "  print(table_features[i],\"\\t\\t\\t\",table_rmse[i])"
      ],
      "execution_count": 33,
      "outputs": [
        {
          "output_type": "stream",
          "name": "stdout",
          "text": [
            "Removed Features\t\t\tRMSE\n",
            "['month'] \t\t\t 57222.18699048913\n",
            "['storey_range'] \t\t\t 60805.72920496324\n",
            "['flat_model_type'] \t\t\t 66076.40701219512\n",
            "['floor_area_sqm'] \t\t\t 60770.76576450893\n",
            "['remaining_lease_years'] \t\t\t 63549.37180397727\n",
            "['degree_centrality'] \t\t\t 57156.41735197369\n",
            "['eigenvector_centrality'] \t\t\t 57772.2119140625\n",
            "['dist_to_nearest_stn'] \t\t\t 64290.33830180921\n",
            "['dist_to_dhoby'] \t\t\t 67217.26106770833\n",
            "['month', 'degree_centrality'] \t\t\t 61410.02641369047\n",
            "['storey_range', 'degree_centrality'] \t\t\t 64472.056818181816\n",
            "['flat_model_type', 'degree_centrality'] \t\t\t 66170.12051504629\n",
            "['floor_area_sqm', 'degree_centrality'] \t\t\t 59903.605009191175\n",
            "['remaining_lease_years', 'degree_centrality'] \t\t\t 62494.74309593023\n",
            "['degree_centrality', 'eigenvector_centrality'] \t\t\t 60519.08147321428\n",
            "['degree_centrality', 'dist_to_nearest_stn'] \t\t\t 61819.01988636364\n",
            "['degree_centrality', 'dist_to_dhoby'] \t\t\t 68072.45804398147\n"
          ]
        }
      ]
    },
    {
      "cell_type": "markdown",
      "metadata": {
        "id": "ePY0wtoq3Z2l"
      },
      "source": [
        "### c)\n",
        "Compare the performances of the model with all 9 input features (from\n",
        "Q2) and the best model arrived at by RFE, in terms of both RMSE and R2."
      ]
    },
    {
      "cell_type": "code",
      "metadata": {
        "colab": {
          "base_uri": "https://localhost:8080/"
        },
        "id": "S8Pt9nLV_0i1",
        "outputId": "6b496331-b172-4086-b9df-792937c0117c"
      },
      "source": [
        "#creating mask for best model\n",
        "rfe_mask=[True,True,True,True,True,True,True,True,True]\n",
        "for val in removed_features:\n",
        "  rfe_mask[val]=False\n",
        "inputs = np.array(all_inputs)[rfe_mask].tolist()   \n",
        "selected_layers = np.array(all_layers)[rfe_mask].tolist()\n",
        "input_layers = keras.layers.Concatenate()(selected_layers)\n",
        "x = layers.Dense(10, activation=\"relu\")(input_layers)\n",
        "output = layers.Dense(1, activation=\"linear\")(x)\n",
        "best_model = keras.Model(inputs, output)\n",
        "best_model.compile(optimizer=opt, \n",
        "                  loss='mse',metrics=[rmse,r_squared])\n",
        "rfe_history = best_model.fit(train_ds, \n",
        "                    epochs=num_epochs,  \n",
        "                    verbose = 0, \n",
        "                    validation_data=(val_ds))"
      ],
      "execution_count": 43,
      "outputs": [
        {
          "output_type": "stream",
          "name": "stderr",
          "text": [
            "/usr/local/lib/python3.7/dist-packages/keras/engine/functional.py:585: UserWarning: Input dict contained keys ['year', 'full_address', 'nearest_stn', 'degree_centrality'] which did not match any model input. They will be ignored by the model.\n",
            "  [n for n in tensors.keys() if n not in ref_input_names])\n"
          ]
        }
      ]
    },
    {
      "cell_type": "code",
      "metadata": {
        "id": "hr3T2YAT8oDd",
        "colab": {
          "base_uri": "https://localhost:8080/",
          "height": 329
        },
        "outputId": "ab8f1ea4-f119-4dcb-aca8-2317966c68a7"
      },
      "source": [
        "plt.figure()\n",
        "x_data = range(101)\n",
        "plt.plot(x_data[5:],history2.history['val_rmse'][4:])\n",
        "plt.plot(x_data[5:],rfe_history.history['val_rmse'][4:])\n",
        "\n",
        "plt.title('Model loss')\n",
        "plt.ylabel('Loss(RMSE)')\n",
        "\n",
        "plt.xlabel('Epoch')\n",
        "plt.legend(['Q2 Model', 'RFE Model'], loc='upper left')\n"
      ],
      "execution_count": 44,
      "outputs": [
        {
          "output_type": "stream",
          "name": "stdout",
          "text": [
            "Q2 Model Mean RMSE\n",
            "RFE Model Mean RMSE\n"
          ]
        },
        {
          "output_type": "display_data",
          "data": {
            "image/png": "[encoded data removed]",
            "text/plain": [
              "<Figure size 432x288 with 1 Axes>"
            ]
          },
          "metadata": {
            "needs_background": "light"
          }
        }
      ]
    },
    {
      "cell_type": "code",
      "metadata": {
        "colab": {
          "base_uri": "https://localhost:8080/",
          "height": 312
        },
        "id": "dV9llDavE7zc",
        "outputId": "feb3f10b-7839-4be7-a6e0-7f0275f9d1af"
      },
      "source": [
        "plt.figure()\n",
        "x_data = range(101)\n",
        "plt.plot(x_data[5:],history2.history['val_r_squared'][4:])\n",
        "plt.plot(x_data[5:],rfe_history.history['val_r_squared'][4:])\n",
        "\n",
        "plt.title('Model R2')\n",
        "plt.ylabel('R2 Value')\n",
        "\n",
        "plt.xlabel('Epoch')\n",
        "plt.legend(['Q2 Model', 'RFE Model'], loc='upper left')"
      ],
      "execution_count": 47,
      "outputs": [
        {
          "output_type": "execute_result",
          "data": {
            "text/plain": [
              "<matplotlib.legend.Legend at 0x7f267fe8cd90>"
            ]
          },
          "metadata": {},
          "execution_count": 47
        },
        {
          "output_type": "display_data",
          "data": {
            "image/png": "[encoded data removed]",
            "text/plain": [
              "<Figure size 432x288 with 1 Axes>"
            ]
          },
          "metadata": {
            "needs_background": "light"
          }
        }
      ]
    },
    {
      "cell_type": "code",
      "metadata": {
        "colab": {
          "base_uri": "https://localhost:8080/"
        },
        "id": "GrrRXwedG1Cs",
        "outputId": "2365b3ea-bf80-4bb8-866d-02a8dee01008"
      },
      "source": [
        "print(\"Q2 Model Mean RMSE\",np.mean(history2.history['val_rmse']))\n",
        "print(\"RFE Model Mean RMSE\",np.mean(rfe_history.history['val_rmse']))\n",
        "print(\"Q2 Model Mean R2\",np.mean(history2.history['val_r_squared']))\n",
        "print(\"RFE Model Mean R2\",np.mean(rfe_history.history['val_r_squared']))"
      ],
      "execution_count": 48,
      "outputs": [
        {
          "output_type": "stream",
          "name": "stdout",
          "text": [
            "Q2 Model Mean RMSE 58176.0415234375\n",
            "RFE Model Mean RMSE 57019.13984375\n",
            "Q2 Model Mean R2 0.7751673203706742\n",
            "RFE Model Mean R2 0.7845336389541626\n"
          ]
        }
      ]
    },
    {
      "cell_type": "markdown",
      "metadata": {
        "id": "Ef_uUuR_On9D"
      },
      "source": [
        "From this, we can see that the RFE Model has lower mean RMSE and higher mean R2"
      ]
    },
    {
      "cell_type": "markdown",
      "metadata": {
        "id": "Q74clVt43nwX"
      },
      "source": [
        "### d)\n",
        "By examining the changes in model performance whenever a feature is\n",
        "removed, evaluate the usefulness of each feature for the task of HDB resale\n",
        "price prediction. "
      ]
    },
    {
      "cell_type": "markdown",
      "metadata": {
        "id": "hDlF3cZtO3z2"
      },
      "source": [
        "Using the RMSE table from part B, the usefulness of each feature can be estimated.\n",
        "\n",
        "On removing certain features, an RMSE greater than 62,000 was obtained. This indicates these are important features. They are, namely, \n",
        "\n",
        "\n",
        "*   flat_model_type\n",
        "*   remaining_lease_years\n",
        "*   dist_to_nearest_stn\n",
        "*   dist_to_dhoby\n",
        "\n",
        "Less important factors had a RMSE of around 57,000 on being removed and these were \n",
        "\n",
        "*  eigenvector_centrality\n",
        "*  degree_centrality\n",
        "*  month\n",
        "\n",
        "Meanwhile, floor_area_sqm and storey_range lie somewhere in the middle in terms of importance\n",
        "\n"
      ]
    },
    {
      "cell_type": "markdown",
      "metadata": {
        "id": "QiK2T9f2Rafl"
      },
      "source": [
        "## Conclusion"
      ]
    },
    {
      "cell_type": "markdown",
      "metadata": {
        "id": "EqMnltUxRctu"
      },
      "source": [
        "From Part B too, a number of observations can be noted.\n",
        "\n",
        "In question 1, a model was created by one-hot encoding the categorical variable. One-hot encoding creates a new dimension for each category. It provides a sparse representation of data.\n",
        "\n",
        "In question 2, an embedded layer was used to encode the categorical variables. It provided a richer representation of data and provided a lower RMSE and higher R2 than the model in question 1. \n",
        "\n",
        "In question 3, RFE is performed. Features are eliminated recursively leading to the elimination of unnecessary features. Based on the RMSE obtained on removing the features, the importance of each feature was evaluated. The model was also seen to have lower mean RMSE than the model from Question 2.\n",
        "\n",
        "RFE was used to remove unnecessary features to improve the model. Like part A, this model can also be hypertuned using several parameters. The batch size, number of neurons, learning rate and other optimizer parameters can be modified to improved the model.\n",
        "In order to predict an increase in price, we may try and use the model to predict the price with different values of each feature. Each feature can be tested one by one with varying values to see how the price fluctuates and see which features are proportional to the price. These can be used to determine how each features will affect the price.\n",
        "\n"
      ]
    }
  ]
}